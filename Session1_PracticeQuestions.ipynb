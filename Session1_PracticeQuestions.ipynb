{
 "cells": [
  {
   "cell_type": "markdown",
   "metadata": {},
   "source": [
    "## BMIS-2542: Data Programming with Python\n",
    "#####  Katz Graduate School of Business, Fall 2019\n",
    "## Session 1: Programming Exercises\n",
    "***"
   ]
  },
  {
   "cell_type": "markdown",
   "metadata": {},
   "source": [
    "**Q1. Sales Prediction**<br>\n",
    "A company has determined that is annual profit is typically 23 percent of total sales. Write a program that asks the user to enter the projected amount of total sales, then displays the profit that will be made from that amount."
   ]
  },
  {
   "cell_type": "code",
   "execution_count": null,
   "metadata": {},
   "outputs": [],
   "source": []
  },
  {
   "cell_type": "markdown",
   "metadata": {},
   "source": [
    "**Q2. Distance Traveled**<br>\n",
    "Assuming there are no accidents or delays, the distance that a car travels down the interstate can be calculated with the following formula: $$Distance = Speed\\times Time$$\n",
    "\n",
    "A car is travelling at 70 miles per hour.<br>\n",
    "Write a program that displays the following:\n",
    "\n",
    "- The distance the car will travel in 6 hours\n",
    "- The distance the car will travel in 10 hours\n",
    "- The distance the car will travel in 15 hours"
   ]
  },
  {
   "cell_type": "code",
   "execution_count": null,
   "metadata": {},
   "outputs": [],
   "source": []
  },
  {
   "cell_type": "markdown",
   "metadata": {},
   "source": [
    "**Q3. Ingredient Adjuster**<br>\n",
    "A cookie recipie calls for the following ingredients.\n",
    "- 1.5 cups sugar\n",
    "- 1 cup butter\n",
    "- 2.75 cups of flour\n",
    "\n",
    "The recipie produces 48 cookies with this amount of ingredients.<br>\n",
    "Write a program that asks the user how many cookies he or she wants to make, then displays the number of cups of each ingredient needed for the specified number of cookies."
   ]
  },
  {
   "cell_type": "code",
   "execution_count": null,
   "metadata": {},
   "outputs": [],
   "source": []
  },
  {
   "cell_type": "markdown",
   "metadata": {},
   "source": [
    "**Q4.Stock Transaction Program** <br>\n",
    "Last month, Joe purchased some stock in Acme Software, Inc. Here are the details of the purchase.\n",
    " - The number of shares that Joe purchased was 2,000\n",
    " - When Joe purchased the stock, he paid $40.00 per share.\n",
    " - Joe paid his stockbroker a commission that amounted to 3 percent of the amount he paid for the stock\n",
    "\n",
    "Two weeks later, Joe sold the stock. Here are the details of the sale:\n",
    "- The number of shares that Joe sold was 2,000\n",
    "- He sold the stock for $42.75 per share\n",
    "- He paid his stockbroker another commisson that amonted to 3 percent of the amount he recived for the stock.\n",
    "\n",
    "Write a program that displays the following information:\n",
    "1. The amount of money Joe paid for the stock\n",
    "2. The amount of commission Joe paid his broker when he bought the stock\n",
    "3. The amount for which Joe sold the stock\n",
    "4. The amount of commission Joe paid his broker when he sold the stock\n",
    "5. Display the amount of money that Joe had left when he sold the stock and paid his broker (both times). If this amount is positive, then Joe made a profit. If the amount is negative, then Joe lost money. "
   ]
  },
  {
   "cell_type": "code",
   "execution_count": null,
   "metadata": {},
   "outputs": [],
   "source": []
  },
  {
   "cell_type": "markdown",
   "metadata": {},
   "source": [
    "**Q5. Celsius to Fahrenheit Temperature Converter** <br>\n",
    "Write a program that that convers Celsius temperatures to Fahrenheit temperatures. The formula is as follows:$$F = \\frac{9}{5}C + 32$$\n",
    "The program should ask the user to enter a temperature in Celsius, then display the temperature converted to Fahrenheit."
   ]
  },
  {
   "cell_type": "code",
   "execution_count": null,
   "metadata": {},
   "outputs": [],
   "source": []
  },
  {
   "cell_type": "markdown",
   "metadata": {},
   "source": [
    "**Q6. Compound Interest**<br>\n",
    "When a bank account pays compound interest, it pays interest not only on the principal amount that was deposited to the account, but also on the interest that has accumilated over time. Suppose you want to deposit some money into a savings account, and the let the account earn compound interest  for a certain number of years. The formula for calculating the balance of the account after a specified number of years is:$$A = P\\left(1+\\frac{r}{n}\\right)^{nt}$$\n",
    "\n",
    "The terms in the formula are:\n",
    " - $A$ is the amount of money in the account after the specified number of years\n",
    " - $P$ is the principal amount that was originally deposited into the account\n",
    " - $r$ is the annual interest rate\n",
    " - $n$ is the number of times per year that the interest is compounded\n",
    " - $t$ is the specified number of years\n",
    " \n",
    " Write a program that makes the calculations for you. The program should ask the users to input the following:\n",
    " 1. The amount of principal originally deposited to the account\n",
    " 2. The annual interest rate paid by the account\n",
    " 3. The number of times per year that the interest is compounded (e.g., if monthly enter 12, if quarterly enter 4)\n",
    " 4. The number of years the account will be left to earn interest\n"
   ]
  },
  {
   "cell_type": "code",
   "execution_count": null,
   "metadata": {},
   "outputs": [],
   "source": []
  }
 ],
 "metadata": {
  "kernelspec": {
   "display_name": "Python 3",
   "language": "python",
   "name": "python3"
  },
  "language_info": {
   "codemirror_mode": {
    "name": "ipython",
    "version": 3
   },
   "file_extension": ".py",
   "mimetype": "text/x-python",
   "name": "python",
   "nbconvert_exporter": "python",
   "pygments_lexer": "ipython3",
   "version": "3.7.3"
  }
 },
 "nbformat": 4,
 "nbformat_minor": 2
}
