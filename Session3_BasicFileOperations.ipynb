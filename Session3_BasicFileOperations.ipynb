{
 "cells": [
  {
   "cell_type": "markdown",
   "metadata": {},
   "source": [
    "# BMIS-2542: Data Programming with Python \n",
    "##### Katz Graduate School of Business, Fall 2019\n",
    "\n",
    "\n",
    "## Session 3: Working with Files\n",
    "***"
   ]
  },
  {
   "cell_type": "markdown",
   "metadata": {},
   "source": [
    "### Handling File Paths"
   ]
  },
  {
   "cell_type": "code",
   "execution_count": 3,
   "metadata": {},
   "outputs": [],
   "source": [
    "import os # import os module that makes the rest of the commands platform (i.e., OS) independent"
   ]
  },
  {
   "cell_type": "code",
   "execution_count": 4,
   "metadata": {},
   "outputs": [
    {
     "data": {
      "text/plain": [
       "'D:\\\\py_jupyter'"
      ]
     },
     "execution_count": 4,
     "metadata": {},
     "output_type": "execute_result"
    }
   ],
   "source": [
    "# get current working directory\n",
    "workingDir = os.getcwd()\n",
    "workingDir"
   ]
  },
  {
   "cell_type": "code",
   "execution_count": 3,
   "metadata": {
    "scrolled": true
   },
   "outputs": [],
   "source": [
    "# making new directories\n",
    "os.makedirs('Data')"
   ]
  },
  {
   "cell_type": "code",
   "execution_count": 4,
   "metadata": {},
   "outputs": [
    {
     "data": {
      "text/plain": [
       "'D:\\\\py_jupyter\\\\Data'"
      ]
     },
     "execution_count": 4,
     "metadata": {},
     "output_type": "execute_result"
    }
   ],
   "source": [
    "# joining file paths to construct a new file path\n",
    "dataPath = os.path.join(workingDir, 'Data')\n",
    "dataPath"
   ]
  },
  {
   "cell_type": "code",
   "execution_count": 5,
   "metadata": {},
   "outputs": [
    {
     "data": {
      "text/plain": [
       "'D:\\\\py_jupyter\\\\Data\\\\daffodils.txt'"
      ]
     },
     "execution_count": 5,
     "metadata": {},
     "output_type": "execute_result"
    }
   ],
   "source": [
    "# let's move the daffodils.txt inside the Data directory\n",
    "filePath = os.path.join(workingDir, 'Data', 'daffodils.txt')\n",
    "filePath"
   ]
  },
  {
   "cell_type": "code",
   "execution_count": 6,
   "metadata": {},
   "outputs": [
    {
     "name": "stdout",
     "output_type": "stream",
     "text": [
      "Directory Name: D:\\py_jupyter\\Data\n",
      "File Name: daffodils.txt\n"
     ]
    }
   ],
   "source": [
    "print('Directory Name:',os.path.dirname(filePath)) # directory name\n",
    "print('File Name:', os.path.basename(filePath)) # base name"
   ]
  },
  {
   "cell_type": "code",
   "execution_count": 7,
   "metadata": {},
   "outputs": [
    {
     "data": {
      "text/plain": [
       "[]"
      ]
     },
     "execution_count": 7,
     "metadata": {},
     "output_type": "execute_result"
    }
   ],
   "source": [
    "# move some files inside your Data Folder\n",
    "# get the list of files in the Data folder\n",
    "os.listdir(dataPath)"
   ]
  },
  {
   "cell_type": "code",
   "execution_count": 8,
   "metadata": {},
   "outputs": [
    {
     "data": {
      "text/plain": [
       "False"
      ]
     },
     "execution_count": 8,
     "metadata": {},
     "output_type": "execute_result"
    }
   ],
   "source": [
    "# check whether the file path is valid\n",
    "os.path.exists(filePath)"
   ]
  },
  {
   "cell_type": "code",
   "execution_count": 9,
   "metadata": {},
   "outputs": [
    {
     "name": "stdout",
     "output_type": "stream",
     "text": [
      "D:\\py_jupyter\\Data2\n"
     ]
    },
    {
     "data": {
      "text/plain": [
       "False"
      ]
     },
     "execution_count": 9,
     "metadata": {},
     "output_type": "execute_result"
    }
   ],
   "source": [
    "fakePath = os.path.join(workingDir, 'Data2') # can use the relative path as well: fakePath = 'Data2'\n",
    "print(fakePath)\n",
    "\n",
    "# check whether the file path is valid\n",
    "os.path.exists(fakePath)"
   ]
  },
  {
   "cell_type": "code",
   "execution_count": 10,
   "metadata": {},
   "outputs": [
    {
     "data": {
      "text/plain": [
       "True"
      ]
     },
     "execution_count": 10,
     "metadata": {},
     "output_type": "execute_result"
    }
   ],
   "source": [
    "# check whether the given path represents a directory\n",
    "os.path.isdir(dataPath)"
   ]
  },
  {
   "cell_type": "code",
   "execution_count": 11,
   "metadata": {},
   "outputs": [
    {
     "data": {
      "text/plain": [
       "False"
      ]
     },
     "execution_count": 11,
     "metadata": {},
     "output_type": "execute_result"
    }
   ],
   "source": [
    "# check whether the given path represents a file\n",
    "os.path.isfile(filePath)"
   ]
  },
  {
   "cell_type": "markdown",
   "metadata": {},
   "source": [
    "### Reading and Writing Text Files\n",
    "1. Call the `open()` function to return a File object.\n",
    "2. Call the `read()` or `write()` method on the File object.\n",
    "3. Close the file by calling the `close()` method on the File object."
   ]
  },
  {
   "cell_type": "markdown",
   "metadata": {},
   "source": [
    "#### Reading Files"
   ]
  },
  {
   "cell_type": "code",
   "execution_count": 5,
   "metadata": {},
   "outputs": [
    {
     "name": "stdout",
     "output_type": "stream",
     "text": [
      "Data\\daffodils.txt\n"
     ]
    }
   ],
   "source": [
    "# open a text file\n",
    "path = os.path.join('Data', 'daffodils.txt')\n",
    "print(path)"
   ]
  },
  {
   "cell_type": "code",
   "execution_count": 6,
   "metadata": {},
   "outputs": [],
   "source": [
    "daffodilsFile = open(path) # default mode is 'r' for reading"
   ]
  },
  {
   "cell_type": "code",
   "execution_count": 7,
   "metadata": {},
   "outputs": [],
   "source": [
    "# use read() to read the entire contents of a file as a string \n",
    "daffodillsContent = daffodilsFile.read()\n",
    "daffodilsFile.close() # close the file"
   ]
  },
  {
   "cell_type": "code",
   "execution_count": 8,
   "metadata": {},
   "outputs": [
    {
     "name": "stdout",
     "output_type": "stream",
     "text": [
      "\n"
     ]
    }
   ],
   "source": [
    "print(daffodillsContent)"
   ]
  },
  {
   "cell_type": "code",
   "execution_count": 18,
   "metadata": {},
   "outputs": [],
   "source": [
    "daffodilsFile = open(path)\n",
    "\n",
    "# use the readline() method to read one line at a time\n",
    "line1 = daffodilsFile.readline()"
   ]
  },
  {
   "cell_type": "code",
   "execution_count": 19,
   "metadata": {},
   "outputs": [
    {
     "data": {
      "text/plain": [
       "''"
      ]
     },
     "execution_count": 19,
     "metadata": {},
     "output_type": "execute_result"
    }
   ],
   "source": [
    "line1"
   ]
  },
  {
   "cell_type": "code",
   "execution_count": 20,
   "metadata": {},
   "outputs": [
    {
     "data": {
      "text/plain": [
       "''"
      ]
     },
     "execution_count": 20,
     "metadata": {},
     "output_type": "execute_result"
    }
   ],
   "source": [
    "line2 = daffodilsFile.readline()\n",
    "line2"
   ]
  },
  {
   "cell_type": "code",
   "execution_count": 21,
   "metadata": {},
   "outputs": [
    {
     "data": {
      "text/plain": [
       "''"
      ]
     },
     "execution_count": 21,
     "metadata": {},
     "output_type": "execute_result"
    }
   ],
   "source": [
    "line3 = daffodilsFile.readline()\n",
    "line3"
   ]
  },
  {
   "cell_type": "code",
   "execution_count": 22,
   "metadata": {},
   "outputs": [
    {
     "data": {
      "text/plain": [
       "''"
      ]
     },
     "execution_count": 22,
     "metadata": {},
     "output_type": "execute_result"
    }
   ],
   "source": [
    "line4 = daffodilsFile.readline()\n",
    "line4"
   ]
  },
  {
   "cell_type": "code",
   "execution_count": 23,
   "metadata": {},
   "outputs": [],
   "source": [
    "daffodilsFile.close()"
   ]
  },
  {
   "cell_type": "code",
   "execution_count": 1,
   "metadata": {},
   "outputs": [
    {
     "ename": "NameError",
     "evalue": "name 'path' is not defined",
     "output_type": "error",
     "traceback": [
      "\u001b[1;31m---------------------------------------------------------------------------\u001b[0m",
      "\u001b[1;31mNameError\u001b[0m                                 Traceback (most recent call last)",
      "\u001b[1;32m<ipython-input-1-cb22ee157576>\u001b[0m in \u001b[0;36m<module>\u001b[1;34m\u001b[0m\n\u001b[1;32m----> 1\u001b[1;33m \u001b[0mdaffodilsFile\u001b[0m \u001b[1;33m=\u001b[0m \u001b[0mopen\u001b[0m\u001b[1;33m(\u001b[0m\u001b[0mpath\u001b[0m\u001b[1;33m)\u001b[0m\u001b[1;33m\u001b[0m\u001b[1;33m\u001b[0m\u001b[0m\n\u001b[0m\u001b[0;32m      2\u001b[0m \u001b[1;33m\u001b[0m\u001b[0m\n\u001b[0;32m      3\u001b[0m \u001b[1;31m# use the readlines() method to get a list of string values from the file\u001b[0m\u001b[1;33m\u001b[0m\u001b[1;33m\u001b[0m\u001b[1;33m\u001b[0m\u001b[0m\n\u001b[0;32m      4\u001b[0m \u001b[0mlines\u001b[0m \u001b[1;33m=\u001b[0m \u001b[0mdaffodilsFile\u001b[0m\u001b[1;33m.\u001b[0m\u001b[0mreadlines\u001b[0m\u001b[1;33m(\u001b[0m\u001b[1;33m)\u001b[0m\u001b[1;33m\u001b[0m\u001b[1;33m\u001b[0m\u001b[0m\n\u001b[0;32m      5\u001b[0m \u001b[0mdaffodilsFile\u001b[0m\u001b[1;33m.\u001b[0m\u001b[0mclose\u001b[0m\u001b[1;33m(\u001b[0m\u001b[1;33m)\u001b[0m\u001b[1;33m\u001b[0m\u001b[1;33m\u001b[0m\u001b[0m\n",
      "\u001b[1;31mNameError\u001b[0m: name 'path' is not defined"
     ]
    }
   ],
   "source": [
    "daffodilsFile = open(path)\n",
    "\n",
    "# use the readlines() method to get a list of string values from the file\n",
    "lines = daffodilsFile.readlines()\n",
    "daffodilsFile.close()"
   ]
  },
  {
   "cell_type": "code",
   "execution_count": 25,
   "metadata": {
    "scrolled": true
   },
   "outputs": [
    {
     "data": {
      "text/plain": [
       "[]"
      ]
     },
     "execution_count": 25,
     "metadata": {},
     "output_type": "execute_result"
    }
   ],
   "source": [
    "lines"
   ]
  },
  {
   "cell_type": "markdown",
   "metadata": {},
   "source": [
    "#### Writing to Files"
   ]
  },
  {
   "cell_type": "code",
   "execution_count": 26,
   "metadata": {},
   "outputs": [],
   "source": [
    "# Start writing the poem \"If\" by RUDYARD KIPLING to if.txt\n",
    "poem = open('if.txt', 'w') # opening in mode 'w' for writing - file will be overwritten if already exists\n",
    "poem.write('If - By RUDYARD KIPLING\\n') \n",
    "poem.write('*************************************************') \n",
    "poem.close()"
   ]
  },
  {
   "cell_type": "code",
   "execution_count": 27,
   "metadata": {},
   "outputs": [],
   "source": [
    "poem = open('if.txt', 'a') # opening in the mode 'a' for appending\n",
    "poem.write('\\n') \n",
    "poem.write('If you can talk with crowds and keep your virtue,\\n') \n",
    "poem.write('Or walk with Kings—nor lose the common touch,\\n')\n",
    "poem.write('If neither foes nor loving friends can hurt you,\\n')\n",
    "poem.write('If all men count with you, but none too much;\\n')\n",
    "poem.write('If you can fill the unforgiving minute\\n')\n",
    "poem.write('With sixty seconds’ worth of distance run,\\n')\n",
    "poem.write('Yours is the Earth and everything that’s in it,  \\n')\n",
    "poem.write('And—which is more—you’ll be a Man, my son!\\n')\n",
    "poem.close()"
   ]
  },
  {
   "cell_type": "code",
   "execution_count": 28,
   "metadata": {},
   "outputs": [
    {
     "name": "stdout",
     "output_type": "stream",
     "text": [
      "If - By RUDYARD KIPLING\n",
      "*************************************************\n",
      "If you can talk with crowds and keep your virtue,\n",
      "Or walk with Kings—nor lose the common touch,\n",
      "If neither foes nor loving friends can hurt you,\n",
      "If all men count with you, but none too much;\n",
      "If you can fill the unforgiving minute\n",
      "With sixty seconds’ worth of distance run,\n",
      "Yours is the Earth and everything that’s in it,  \n",
      "And—which is more—you’ll be a Man, my son!\n",
      "\n"
     ]
    }
   ],
   "source": [
    "poem = open('if.txt')\n",
    "content = poem.read()\n",
    "poem.close()\n",
    "print(content)"
   ]
  },
  {
   "cell_type": "markdown",
   "metadata": {},
   "source": [
    "### Example\n",
    "We need to write code that performs the following analysis for the file novel.txt ([source](https://www.gutenberg.org/ebooks/19337)) <br>**Make sure that `novel.txt` is in the same directory as this Jupyter Notebook.**\n",
    "1. Print the first row \n",
    "2. Print the first 10 rows\n",
    "3. What is the total number of rows?\n",
    "4. How many rows are not empty?\n",
    "5. How many rows containing the word **Christmas**?\n",
    "6. Create a list of the words that appear in the file. What is the total number of words? print the first 20 words. \n",
    "7. Obtain the frequency of each word\n",
    "8. Print the 10 most frequently used words\n",
    "9. Export the frequencies to a file. Each row should contain a word followed by a comma, and the frequency of the word. Words should appear from the most to least frequent."
   ]
  },
  {
   "cell_type": "code",
   "execution_count": 29,
   "metadata": {
    "scrolled": true
   },
   "outputs": [
    {
     "name": "stdout",
     "output_type": "stream",
     "text": [
      "﻿The Project Gutenberg EBook of A Christmas Carol, by Charles Dickens\n",
      "\n"
     ]
    }
   ],
   "source": [
    "# (1) Print the First Row\n",
    "path = 'novel.txt'\n",
    "novel = open(path, 'r', encoding='utf8') \n",
    "\n",
    "line = novel.readline()\n",
    "print(line)\n",
    "novel.close()"
   ]
  },
  {
   "cell_type": "code",
   "execution_count": 4,
   "metadata": {},
   "outputs": [
    {
     "name": "stdout",
     "output_type": "stream",
     "text": [
      "﻿The Project Gutenberg EBook of A Christmas Carol, by Charles Dickens\n",
      "\n",
      "\n",
      "\n",
      "This eBook is for the use of anyone anywhere at no cost and with\n",
      "\n"
     ]
    }
   ],
   "source": [
    "# (2) Print the first 10 rows\n",
    "novel = open('novel.txt', 'r', encoding='utf8')\n",
    "\n",
    "for i in range(3):\n",
    "    line = novel.readline()\n",
    "    print(line)\n",
    "\n",
    "novel.close()"
   ]
  },
  {
   "cell_type": "code",
   "execution_count": 31,
   "metadata": {},
   "outputs": [
    {
     "name": "stdout",
     "output_type": "stream",
     "text": [
      "3853\n"
     ]
    }
   ],
   "source": [
    "# (3) Get total number of rows reading one line at a time\n",
    "novel = open('novel.txt', 'r', encoding='utf8')\n",
    "\n",
    "line = novel.readline()\n",
    "i = 0\n",
    "while line:\n",
    "    i = i+1\n",
    "    line = novel.readline()\n",
    "print(i)\n",
    "novel.close()"
   ]
  },
  {
   "cell_type": "code",
   "execution_count": 32,
   "metadata": {},
   "outputs": [
    {
     "name": "stdout",
     "output_type": "stream",
     "text": [
      "3853\n",
      "<class 'list'>\n",
      "﻿The Project Gutenberg EBook of A Christmas Carol, by Charles Dickens\n",
      "\n",
      "\n",
      "\n",
      "This eBook is for the use of anyone anywhere at no cost and with\n",
      "\n"
     ]
    }
   ],
   "source": [
    "# (3) Get total number of rows by reading all lines at once\n",
    "f = open('novel.txt', 'r', encoding='utf8')\n",
    "x = f.readlines() \n",
    "print(len(x))\n",
    "f.close()\n",
    "\n",
    "print(type(x))\n",
    "\n",
    "print(x[0])\n",
    "print(x[1])\n",
    "print(x[2])"
   ]
  },
  {
   "cell_type": "code",
   "execution_count": 33,
   "metadata": {},
   "outputs": [
    {
     "name": "stdout",
     "output_type": "stream",
     "text": [
      "2979\n"
     ]
    }
   ],
   "source": [
    "# (4) Get the non-empty rows\n",
    "novel = open('novel.txt', 'r', encoding='utf8')\n",
    "\n",
    "i = 0\n",
    "for line in novel:     \n",
    "    if len(line.strip())>0:        \n",
    "        i = i+1\n",
    "print(i)\n",
    "novel.close()"
   ]
  },
  {
   "cell_type": "code",
   "execution_count": 34,
   "metadata": {},
   "outputs": [
    {
     "name": "stdout",
     "output_type": "stream",
     "text": [
      "90\n"
     ]
    }
   ],
   "source": [
    "# (5) How many rows contain the word \"Christmas\"\n",
    "novel = open('novel.txt', 'r', encoding='utf8')\n",
    "\n",
    "i = 0\n",
    "for line in novel:\n",
    "    if \"Christmas\" in line:\n",
    "        i = i+1\n",
    "print(i)\n",
    "novel.close()"
   ]
  },
  {
   "cell_type": "code",
   "execution_count": 35,
   "metadata": {},
   "outputs": [
    {
     "name": "stdout",
     "output_type": "stream",
     "text": [
      "32326\n",
      "['\\ufeffThe', 'Project', 'Gutenberg', 'EBook', 'of', 'A', 'Christmas', 'Carol,', 'by', 'Charles', 'Dickens', 'This', 'eBook', 'is', 'for', 'the', 'use', 'of', 'anyone', 'anywhere']\n"
     ]
    }
   ],
   "source": [
    "# (6) Obtain the list of words in the file and print the first twenty\n",
    "novel = open('novel.txt', 'r', encoding='utf8')\n",
    "\n",
    "words = [] #list of words\n",
    "for line in novel:\n",
    "    words = words + line.split() \n",
    "print(len(words))\n",
    "print(words[:20])\n",
    "novel.close()"
   ]
  },
  {
   "cell_type": "code",
   "execution_count": null,
   "metadata": {},
   "outputs": [],
   "source": [
    "# (7) Get frequency of each word\n",
    "# map() function returns a list of the results after applying the given function to each item of a given iterable (list, tuple etc.)\n",
    "# lambda notation is for an anonymous function\n",
    "words_lower=list(map(lambda x:x.lower(),words)) \n",
    "words_lower[:20]\n",
    "\n",
    "freq = dict()\n",
    "for w in words_lower:\n",
    "    if w in freq:\n",
    "        freq[w]+=1\n",
    "    else:\n",
    "        freq[w]=1\n",
    "print(freq)"
   ]
  },
  {
   "cell_type": "code",
   "execution_count": null,
   "metadata": {},
   "outputs": [],
   "source": [
    "# (8) Get the 10 most frequenty used words\n",
    "freqList = [(freq[d],d) for d in freq.keys()]\n",
    "freqList[:10]\n",
    "\n",
    "freqList.sort()\n",
    "freqList[:10]\n",
    "\n",
    "freqList.sort(reverse = True)\n",
    "freqList[:10]"
   ]
  },
  {
   "cell_type": "code",
   "execution_count": null,
   "metadata": {},
   "outputs": [],
   "source": [
    "#(9) export frequencies to file\n",
    "output=open('word_freq.csv','w', encoding='utf8')\n",
    "for freq,word in freqList:\n",
    "    output.write(word + ',' + str(freq) + '\\n')     \n",
    "output.close()"
   ]
  }
 ],
 "metadata": {
  "kernelspec": {
   "display_name": "Python 3",
   "language": "python",
   "name": "python3"
  },
  "language_info": {
   "codemirror_mode": {
    "name": "ipython",
    "version": 3
   },
   "file_extension": ".py",
   "mimetype": "text/x-python",
   "name": "python",
   "nbconvert_exporter": "python",
   "pygments_lexer": "ipython3",
   "version": "3.7.3"
  }
 },
 "nbformat": 4,
 "nbformat_minor": 2
}
