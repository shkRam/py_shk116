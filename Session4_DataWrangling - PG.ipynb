{
 "cells": [
  {
   "attachments": {
    "panda.jpg": {
     "image/jpeg": "[encoded data removed]"
    }
   },
   "cell_type": "markdown",
   "metadata": {},
   "source": [
    "## BMIS-2542: Data Programming Essentials with Python \n",
    "##### Katz Graduate School of Business, Fall 2019\n",
    "\n",
    "\n",
    "## Session-4: Data Wrangling  with Pandas\n",
    "\n",
    "<img src=\"attachment:panda.jpg\" width=\"250\">"
   ]
  },
  {
   "cell_type": "code",
   "execution_count": null,
   "metadata": {},
   "outputs": [],
   "source": [
    "import pandas as pd\n",
    "import numpy as np"
   ]
  },
  {
   "cell_type": "markdown",
   "metadata": {},
   "source": [
    "Pandas has two workhorse data structures: **Series** and **DataFrame**."
   ]
  },
  {
   "cell_type": "markdown",
   "metadata": {},
   "source": [
    "## Series\n",
    "\n",
    "A series is a one-dimensional array-like object containing a sequence of values and an associated array of data labels, called its index."
   ]
  },
  {
   "cell_type": "code",
   "execution_count": null,
   "metadata": {},
   "outputs": [],
   "source": [
    "mySeries = pd.Series([4, 7, -5, 3])\n",
    "mySeries"
   ]
  },
  {
   "cell_type": "code",
   "execution_count": null,
   "metadata": {
    "scrolled": true
   },
   "outputs": [],
   "source": [
    "# Often, it is desirable to create a Series with an index identifying each data point with a label.\n",
    "mySeries2 = pd.Series([4, 7, -5, 3], index= ['a','b', 'c','d'] )\n",
    "mySeries2"
   ]
  },
  {
   "cell_type": "code",
   "execution_count": null,
   "metadata": {
    "scrolled": true
   },
   "outputs": [],
   "source": [
    "# A Series can also be created by passing a dictionary\n",
    "seriesDict = {'Ohio':35000, 'Texas':71000,'Oregon':16000,'Utah':5000}\n",
    "mySeries3 =  pd.Series(seriesDict)\n",
    "mySeries3"
   ]
  },
  {
   "cell_type": "code",
   "execution_count": null,
   "metadata": {},
   "outputs": [],
   "source": [
    "# selecting values\n",
    "mySeries3['Texas']"
   ]
  },
  {
   "cell_type": "code",
   "execution_count": null,
   "metadata": {},
   "outputs": [],
   "source": [
    "mySeries3[(mySeries3>5000) & (mySeries3<70000)]"
   ]
  },
  {
   "cell_type": "code",
   "execution_count": null,
   "metadata": {},
   "outputs": [],
   "source": [
    "#dealing with panda use bitwise opeartor not boiolean as the panda work with integer arrays"
   ]
  },
  {
   "cell_type": "markdown",
   "metadata": {},
   "source": [
    "## DataFrame\n",
    "\n",
    "The most common method to create a `DataFrame` is from a dictionary of equal-length lists.<br>\n",
    "Each entry in the dictionary contains the column name and the values associated with it in the form of a list.<br>\n",
    "Columns in the `DataFrame` can be arranged at construction time by entering a keyword **columns** with a list of the names of the columns ordered as we want.<br>\n",
    "The index of each row is created automatically, taking the position of its elements inside the entry lists, starting from 0."
   ]
  },
  {
   "cell_type": "code",
   "execution_count": null,
   "metadata": {},
   "outputs": [],
   "source": [
    "data = {'state' : ['Ohio', 'Ohio', 'Ohio', 'Nevada', 'Nevada', 'Nevada'],\n",
    "        'year' : [2000, 2001, 2002, 2001, 2002, 2003],\n",
    "        'population' : [1.5, 1.7, 3.6, 2.4, 2.9, 3.2]}\n",
    "dataFrame = pd.DataFrame(data)\n",
    "# dataFrame = pd.DataFrame(data, columns = ['year', 'state', 'population'])\n",
    "dataFrame"
   ]
  },
  {
   "cell_type": "raw",
   "metadata": {},
   "source": [
    "#created dictionary, then pass that dict into data frame"
   ]
  },
  {
   "cell_type": "code",
   "execution_count": null,
   "metadata": {
    "scrolled": true
   },
   "outputs": [],
   "source": [
    "#Here is another one\n",
    "dictFootball = {'year': [2010, 2011, 2010, 2011, 2010, 2011],\n",
    "                'team': ['FCBarcelona', 'FCBarcelona', 'RMadrid', 'RMadrid', 'ValenciaCF',\n",
    "                         'ValenciaCF'],\n",
    "                'wins':   [30, 28, 29, 32, 21, 17],\n",
    "                'draws':  [6, 7, 5, 4, 8, 10],\n",
    "                'losses': [2, 3, 4, 2,  9, 11]\n",
    "               }\n",
    "football = pd.DataFrame(dictFootball, columns=['year', 'team', 'wins', 'draws', 'losses'])\n",
    "football"
   ]
  },
  {
   "cell_type": "code",
   "execution_count": null,
   "metadata": {},
   "outputs": [],
   "source": [
    "football.dtypes # read more here: https://pandas.pydata.org/pandas-docs/stable/getting_started/basics.html#basics-dtypes"
   ]
  },
  {
   "cell_type": "raw",
   "metadata": {},
   "source": [
    "#string as object panda takes"
   ]
  },
  {
   "cell_type": "code",
   "execution_count": null,
   "metadata": {},
   "outputs": [],
   "source": [
    "football['draws'].dtype"
   ]
  },
  {
   "cell_type": "code",
   "execution_count": null,
   "metadata": {},
   "outputs": [],
   "source": [
    "football['draws'] = football['draws'].astype(float)\n",
    "football"
   ]
  },
  {
   "cell_type": "code",
   "execution_count": null,
   "metadata": {},
   "outputs": [],
   "source": [
    "#type casting"
   ]
  },
  {
   "cell_type": "code",
   "execution_count": null,
   "metadata": {},
   "outputs": [],
   "source": [
    "football['draws'].dtype"
   ]
  },
  {
   "cell_type": "code",
   "execution_count": null,
   "metadata": {},
   "outputs": [],
   "source": [
    "football.dtypes"
   ]
  },
  {
   "cell_type": "markdown",
   "metadata": {},
   "source": [
    "## <mark>Reading Tabular Data</mark>\n",
    "\n",
    "Let's use the [Adult Data Set](https://archive.ics.uci.edu/ml/datasets/Adult) for our example analysis. A CSV (comma separated values) file based on this dataset is available on CourseWeb. Download it to your Jupyter directory. \n",
    "\n",
    "We can read csv files into a `DataFrame` by calling the [read_csv](https://pandas.pydata.org/pandas-docs/stable/generated/pandas.read_csv.html#pandas.read_csv) method in Pandas. In addition to the `path` to the file, we add the `na_values` key argument to this method along with the character that represents \"not-available data\" in the file. <br>CSV files usually come with a header that contains the column names. If this is the case, we can use the `usecols` parameter to select which columns in the file we will use."
   ]
  },
  {
   "cell_type": "code",
   "execution_count": null,
   "metadata": {
    "scrolled": false
   },
   "outputs": [],
   "source": [
    "dfAdults = pd.read_csv('adult.csv', na_values= '?', usecols=['age','workclass','fnlwgt','education','marital_status','occupation','relationship','race','sex','capital_gain','capital_loss','hours_per_week','native_country','income_class'])\n",
    "dfAdults"
   ]
  },
  {
   "cell_type": "markdown",
   "metadata": {},
   "source": [
    "**NOTE**: In addition to reading CSV files, Pandas also has functions for reading files in other formats such as Excel, HDF5, tabulated files or even the content from the clipboard (read_excel(), read_hdf(), read_table(), read_clipboard()). Upon reading the contect, every such function returns a `DataFrame`. You can read more about these functions [here](https://pandas.pydata.org/pandas-docs/stable/reference/io.html)."
   ]
  },
  {
   "cell_type": "code",
   "execution_count": null,
   "metadata": {},
   "outputs": [],
   "source": [
    "# you can write a DataFrame to a file. The output file is stored in your current working  directory.\n",
    "dfAdults.to_csv('AdultDataFrame.csv', index = False, na_rep = '?')"
   ]
  },
  {
   "cell_type": "code",
   "execution_count": null,
   "metadata": {},
   "outputs": [],
   "source": [
    "# Get DataFrame size\n",
    "dfAdults.shape"
   ]
  },
  {
   "cell_type": "code",
   "execution_count": null,
   "metadata": {},
   "outputs": [],
   "source": [
    "dfAdults.head(10) # Returns the first five rows. Can pass the number of rows we need to view as an argument."
   ]
  },
  {
   "cell_type": "code",
   "execution_count": null,
   "metadata": {},
   "outputs": [],
   "source": [
    "dfAdults.tail() # Returns the last 5 rows"
   ]
  },
  {
   "cell_type": "code",
   "execution_count": null,
   "metadata": {},
   "outputs": [],
   "source": [
    "# Get all the columns in the DataFrame as a list. \n",
    "list(dfAdults)"
   ]
  },
  {
   "cell_type": "code",
   "execution_count": null,
   "metadata": {},
   "outputs": [],
   "source": [
    "list(dfAdults.columns)"
   ]
  },
  {
   "cell_type": "code",
   "execution_count": null,
   "metadata": {},
   "outputs": [],
   "source": [
    "# Quickly describe the dataframe\n",
    "dfAdults.describe()"
   ]
  },
  {
   "cell_type": "markdown",
   "metadata": {},
   "source": [
    "### Selection and Filtering"
   ]
  },
  {
   "cell_type": "code",
   "execution_count": null,
   "metadata": {},
   "outputs": [],
   "source": [
    "# A column in a DataFrame can be retrieved as a Series, using dict/list/attribute-like notation \n",
    "dfAdults['education']"
   ]
  },
  {
   "cell_type": "code",
   "execution_count": null,
   "metadata": {},
   "outputs": [],
   "source": [
    "dfAdults.education # attribute like notation"
   ]
  },
  {
   "cell_type": "code",
   "execution_count": null,
   "metadata": {},
   "outputs": [],
   "source": [
    "type(dfAdults.education)"
   ]
  },
  {
   "cell_type": "code",
   "execution_count": null,
   "metadata": {
    "scrolled": true
   },
   "outputs": [],
   "source": [
    "dfAdults[['age', 'race']]"
   ]
  },
  {
   "cell_type": "code",
   "execution_count": null,
   "metadata": {
    "scrolled": true
   },
   "outputs": [],
   "source": [
    "# selecting specific rows\n",
    "dfAdults[5:10]"
   ]
  },
  {
   "cell_type": "code",
   "execution_count": null,
   "metadata": {},
   "outputs": [],
   "source": [
    "dfAdults[:2]"
   ]
  },
  {
   "cell_type": "code",
   "execution_count": null,
   "metadata": {},
   "outputs": [],
   "source": [
    "dfAdults.education.unique() # get the unique values in the 'education' column"
   ]
  },
  {
   "cell_type": "code",
   "execution_count": null,
   "metadata": {
    "scrolled": false
   },
   "outputs": [],
   "source": [
    "# you can filter out rows based on certain conditions\n",
    "masters = dfAdults[dfAdults.education == 'Masters']\n",
    "masters"
   ]
  },
  {
   "cell_type": "code",
   "execution_count": null,
   "metadata": {},
   "outputs": [],
   "source": [
    "wgt = dfAdults[dfAdults.fnlwgt>85000]\n",
    "wgt"
   ]
  },
  {
   "cell_type": "markdown",
   "metadata": {},
   "source": [
    "### Selection using `loc`\n",
    "You can use `loc` to select a subset of rows and columns."
   ]
  },
  {
   "cell_type": "code",
   "execution_count": null,
   "metadata": {},
   "outputs": [],
   "source": [
    "dfAdults.loc[2:10]"
   ]
  },
  {
   "cell_type": "code",
   "execution_count": null,
   "metadata": {},
   "outputs": [],
   "source": [
    "dfAdults.loc[2:10, ['age','sex']] # note the selected list of columns: age and sex"
   ]
  },
  {
   "cell_type": "markdown",
   "metadata": {},
   "source": [
    "    #10 is inluded"
   ]
  },
  {
   "cell_type": "code",
   "execution_count": null,
   "metadata": {},
   "outputs": [],
   "source": [
    "dfAdults.loc[2:10, 'age':'sex'] # note the range of columns selected: age-->sex"
   ]
  },
  {
   "cell_type": "code",
   "execution_count": null,
   "metadata": {},
   "outputs": [],
   "source": [
    "dfAdults.loc[dfAdults.education=='Masters', 'age':'sex']"
   ]
  },
  {
   "cell_type": "markdown",
   "metadata": {},
   "source": [
    "### Exercise\n",
    "1. Select all Females who work for the Federal Government (work class column), but from countries other than the United States\n",
    "2. Select all who have a Bachelors degree or who earn more than 50K\n",
    "3. Get the education level and the income class of all people who are never-married."
   ]
  },
  {
   "cell_type": "code",
   "execution_count": null,
   "metadata": {},
   "outputs": [],
   "source": [
    "list(dfAdults)"
   ]
  },
  {
   "cell_type": "code",
   "execution_count": null,
   "metadata": {},
   "outputs": [],
   "source": [
    "dfAdults.marital_status.unique()"
   ]
  },
  {
   "cell_type": "code",
   "execution_count": null,
   "metadata": {
    "scrolled": true
   },
   "outputs": [],
   "source": [
    "dfAdults.education.unique()"
   ]
  },
  {
   "cell_type": "code",
   "execution_count": null,
   "metadata": {},
   "outputs": [],
   "source": [
    "dfAdults.income_class.unique()"
   ]
  },
  {
   "cell_type": "code",
   "execution_count": null,
   "metadata": {},
   "outputs": [],
   "source": [
    "dfAdults.sex.unique()"
   ]
  },
  {
   "cell_type": "code",
   "execution_count": null,
   "metadata": {},
   "outputs": [],
   "source": [
    "dfAdults.workclass.unique()"
   ]
  },
  {
   "cell_type": "code",
   "execution_count": null,
   "metadata": {},
   "outputs": [],
   "source": [
    "dfAdults.native_country.unique()"
   ]
  },
  {
   "cell_type": "code",
   "execution_count": null,
   "metadata": {},
   "outputs": [],
   "source": [
    "masters = dfAdults[(dfAdults.sex == 'Female')& (dfAdults.workclass == 'State-gov')& (dfAdults.native_country != 'United-States')]\n",
    "masters"
   ]
  },
  {
   "cell_type": "code",
   "execution_count": null,
   "metadata": {},
   "outputs": [],
   "source": [
    "adulyts = dfAdults[(dfAdults.education=='Bachelors')| (dfAdults.income_class == '>50K')]"
   ]
  },
  {
   "cell_type": "code",
   "execution_count": null,
   "metadata": {},
   "outputs": [],
   "source": [
    "neverMarried = dfAdults.loc[(dfAdults.marital_status == 'Never-married'),['income_class','education']]\n",
    "neverMarried"
   ]
  },
  {
   "cell_type": "markdown",
   "metadata": {},
   "source": [
    "### Creating/Removing Columns"
   ]
  },
  {
   "cell_type": "code",
   "execution_count": null,
   "metadata": {
    "scrolled": false
   },
   "outputs": [],
   "source": [
    "# assigning a column that doesn't exist will create a new column. \n",
    "# Let's create the new column 'test_column'\n",
    "dfAdults['test_column'] = 10000\n",
    "dfAdults.head()"
   ]
  },
  {
   "cell_type": "code",
   "execution_count": null,
   "metadata": {
    "scrolled": true
   },
   "outputs": [],
   "source": [
    "dfAdults['prod'] = dfAdults.age * dfAdults.fnlwgt\n",
    "dfAdults.head()"
   ]
  },
  {
   "cell_type": "code",
   "execution_count": null,
   "metadata": {
    "scrolled": true
   },
   "outputs": [],
   "source": [
    "# Let's create a new column (\"from_US\") of boolean values that contains True if the native_country is United-States\n",
    "dfAdults['from_US'] = dfAdults.native_country == 'United-States'\n",
    "dfAdults.head(10)"
   ]
  },
  {
   "cell_type": "code",
   "execution_count": null,
   "metadata": {},
   "outputs": [],
   "source": [
    "dfAdults['from_US'] = dfAdults['from_US'].astype('int64')\n",
    "dfAdults.head()"
   ]
  },
  {
   "cell_type": "code",
   "execution_count": null,
   "metadata": {},
   "outputs": [],
   "source": [
    "# create new column by discretization/binning\n",
    "ages = dfAdults['age']\n",
    "bins = [0,30,60,100]\n",
    "bin_names = ['Youth', 'MiddleAged', 'Senior']\n",
    "\n",
    "dfAdults['age_category'] = pd.cut(ages,bins,labels=bin_names)\n",
    "dfAdults"
   ]
  },
  {
   "cell_type": "code",
   "execution_count": null,
   "metadata": {},
   "outputs": [],
   "source": [
    "#Segmenting existing sheet using next categ var"
   ]
  },
  {
   "cell_type": "code",
   "execution_count": null,
   "metadata": {},
   "outputs": [],
   "source": [
    "# remove a column using the del function. Let's remove the newly created test_column\n",
    "del dfAdults['test_column']\n",
    "dfAdults.head()"
   ]
  },
  {
   "cell_type": "markdown",
   "metadata": {},
   "source": [
    "In Pandas, the functions that change the contents of a `DataFrame`, will normally return a copy of the modified data, instead of overwriting the original `DataFrame`. Therefore, if you do not want to keep the old values, you can set the keyword `inplace` to `True`. By default, this keyword is set to `False`, meaning that a copy of the data is returned. "
   ]
  },
  {
   "cell_type": "code",
   "execution_count": null,
   "metadata": {},
   "outputs": [],
   "source": [
    "# Let's remove the column \"from_US\" using the drop method\n",
    "dfAdults.drop(columns=['from_US']) \n",
    "dfAdults.head() # note that 'from_US' column is still there in dfAdults after the drop"
   ]
  },
  {
   "cell_type": "code",
   "execution_count": null,
   "metadata": {
    "scrolled": true
   },
   "outputs": [],
   "source": [
    "# Let's remove the column \"from_US\" using the drop method and inplace=True\n",
    "dfAdults.drop(columns=['from_US'], inplace=True) # Alternatively, drop('from_US', axis = 1) \n",
    "dfAdults.head()"
   ]
  },
  {
   "cell_type": "markdown",
   "metadata": {},
   "source": [
    "if we want to remove a row, we can use the `drop` function. We need to specify the index of the row we want to remove. "
   ]
  },
  {
   "cell_type": "code",
   "execution_count": null,
   "metadata": {
    "scrolled": true
   },
   "outputs": [],
   "source": [
    "# drop rows by index\n",
    "dfAdults.drop([0,1], inplace=True)\n",
    "dfAdults.head()"
   ]
  },
  {
   "cell_type": "markdown",
   "metadata": {},
   "source": [
    "## <mark>Summarizing and Computing Descriptive Statistics</mark>\n",
    "The following list shows the most common aggregation functions available.\n",
    "\n",
    "| Function  | Description | \n",
    "|-----------|-------------|\n",
    "| count()   |Number of not-null observations|  \n",
    "| sum()     |Sum of values|\n",
    "| mean()    |Mean of values            | \n",
    "| median()  |Arithmetic median of values             |\n",
    "| min()     |Minimum|\n",
    "| max()     |Maximum|\n",
    "| prod()    |Product of values|\n",
    "| std()     |Unbiased standard deviation|\n",
    "| var()     |Unbiased variance|\n",
    "\n",
    "If a function is applied to a `DataFrame` or a selection of rows and columns, then you can specify if the function should be applied to the rows for each column  (putting the **axis=0** keyword on the invocation of the function), or it should be applied on the columns for each row (putting the **axis=1** keyword on the invocation of the function)."
   ]
  },
  {
   "cell_type": "code",
   "execution_count": null,
   "metadata": {},
   "outputs": [],
   "source": [
    "# Maximum value of fnlwgt column\n",
    "dfAdults.fnlwgt.max() "
   ]
  },
  {
   "cell_type": "code",
   "execution_count": null,
   "metadata": {},
   "outputs": [],
   "source": [
    "# Row-wise Max: Maximum value of each column across all rows (axis = 0)\n",
    "dfAdults.max(axis = 0)"
   ]
  },
  {
   "cell_type": "code",
   "execution_count": null,
   "metadata": {},
   "outputs": [],
   "source": [
    "#o means row wise 1 column wise"
   ]
  },
  {
   "cell_type": "code",
   "execution_count": null,
   "metadata": {},
   "outputs": [],
   "source": [
    "dfMales = dfAdults[dfAdults.sex == 'Male'] \n",
    "dfFemales = dfAdults[dfAdults.sex == 'Female'] \n",
    "dfMalesHighIncome = dfAdults[(dfAdults.sex == 'Male') & (dfAdults.income_class=='>50K')] \n",
    "dfFemalesHighIncome = dfAdults[(dfAdults.sex == 'Female') & (dfAdults.income_class=='>50K')] \n",
    "dfHighIncome = dfAdults[dfAdults.income_class=='>50K']\n",
    "\n",
    "print('The % of people with high income:', int(len(dfHighIncome)/len(dfAdults)*100), '%.') \n",
    "print('The % of men with high income:', int(len(dfMalesHighIncome)/len(dfMales)*100), '%.') \n",
    "print('The % of women with high income:', int(len(dfFemalesHighIncome)/len(dfFemales)*100), '%.') \n",
    "print('The average age of men:', dfMales['age'].mean(), '.') \n",
    "print('The average age of women:', dfFemales['age'].mean(), '.')\n",
    "print('The average age of high-income men:', dfMalesHighIncome['age'].mean(), '.') \n",
    "print('The average age of high-income women:', dfFemalesHighIncome['age'].mean(), '.')"
   ]
  },
  {
   "cell_type": "code",
   "execution_count": null,
   "metadata": {},
   "outputs": [],
   "source": [
    "male_mu = dfMales['age'].mean()\n",
    "female_mu = dfFemales['age'].mean()\n",
    "male_var = dfMales['age'].var()\n",
    "female_var = dfFemales['age'].var()\n",
    "male_std = dfMales['age'].std()\n",
    "female_std = dfFemales['age'].std()\n",
    "print('Statistics of age for Men: mu:', male_mu, 'var:', male_var, 'std:', male_std)\n",
    "print('Statistics of age for Women: mu:', female_mu, 'var:', female_var, 'std:', female_std)"
   ]
  },
  {
   "cell_type": "code",
   "execution_count": null,
   "metadata": {},
   "outputs": [],
   "source": [
    "male_median=dfMales['age'].median()\n",
    "female_median= dfFemales['age'].median()\n",
    "print (\"Median Age for Men and Women: \", male_median, female_median)"
   ]
  },
  {
   "cell_type": "code",
   "execution_count": null,
   "metadata": {},
   "outputs": [],
   "source": [
    "dfAdults.hours_per_week.quantile(0.1) # 10th percentile"
   ]
  },
  {
   "cell_type": "code",
   "execution_count": null,
   "metadata": {},
   "outputs": [],
   "source": [
    "# Correlation\n",
    "dfAdults.age.corr(dfAdults.fnlwgt)"
   ]
  },
  {
   "cell_type": "code",
   "execution_count": null,
   "metadata": {},
   "outputs": [],
   "source": [
    "# Covariance\n",
    "dfAdults.age.cov(dfAdults.fnlwgt)"
   ]
  },
  {
   "cell_type": "markdown",
   "metadata": {},
   "source": [
    "### Function Application\n",
    "We can apply operations over all the values in rows, columns or a selection of both. The rule of thumb is that an operation a column means that it is applied to each row in that column and an operation on a row means that it is applied to each column in that row."
   ]
  },
  {
   "cell_type": "code",
   "execution_count": null,
   "metadata": {},
   "outputs": [],
   "source": [
    "s = dfAdults['fnlwgt'] / 1000\n",
    "s.head()"
   ]
  },
  {
   "cell_type": "markdown",
   "metadata": {},
   "source": [
    "We can also apply any function to a `DataFrame` or `Series` just by passing its name as argument of the `apply` method. <br>For example, in the following code, we apply the `sqrt` function from the *numpy* library to perform the square root of each value in the *`fnlwgt`* column."
   ]
  },
  {
   "cell_type": "code",
   "execution_count": null,
   "metadata": {},
   "outputs": [],
   "source": [
    "dfAdults['sqrt_weight'] = dfAdults['fnlwgt'].apply(np.sqrt)\n",
    "dfAdults.head()"
   ]
  },
  {
   "cell_type": "code",
   "execution_count": null,
   "metadata": {},
   "outputs": [],
   "source": [
    "#np all number operations "
   ]
  },
  {
   "cell_type": "markdown",
   "metadata": {},
   "source": [
    "If we need to design a specific function to apply, we can write an in-line function, commonly known as a $\\lambda$-function (lambda). A $\\lambda$-function is a function without a name (annonymous function). It is only necessary to specify the parameters it receives, between the **lambda**  keyword and the **:**. In the next example, only one parameter is needed, which will be the value of each element in the *'fnlwgt'* column. The value the function returns will be the square of that value."
   ]
  },
  {
   "cell_type": "code",
   "execution_count": null,
   "metadata": {},
   "outputs": [],
   "source": [
    "dfAdults['weight_2'] = dfAdults['fnlwgt'].apply(lambda d: d**2)\n",
    "dfAdults.head()"
   ]
  },
  {
   "cell_type": "code",
   "execution_count": null,
   "metadata": {},
   "outputs": [],
   "source": []
  },
  {
   "cell_type": "markdown",
   "metadata": {},
   "source": [
    "### Sorting\n",
    "A `DataFrame` can be sorted using any column, using the `sort` function.  Let's view the first five rows of data sorted in the descending order (i.e., from the largest to the smallest values) of the *`fnlwgt`* column:"
   ]
  },
  {
   "cell_type": "code",
   "execution_count": null,
   "metadata": {
    "scrolled": true
   },
   "outputs": [],
   "source": [
    "dfNew = dfAdults.sort_values(by='fnlwgt')\n",
    "dfNew.head()"
   ]
  },
  {
   "cell_type": "code",
   "execution_count": null,
   "metadata": {},
   "outputs": [],
   "source": [
    "dfAdults.sort_values(by='fnlwgt', inplace=True)\n",
    "dfAdults"
   ]
  },
  {
   "cell_type": "markdown",
   "metadata": {},
   "source": [
    "If we want to return to the original order, we can sort by an index using the **sort_index** function and specifying **axis=0**:"
   ]
  },
  {
   "cell_type": "code",
   "execution_count": null,
   "metadata": {},
   "outputs": [],
   "source": [
    "dfAdults.sort_index(axis=0, ascending=True, inplace=True)\n",
    "dfAdults.head()"
   ]
  },
  {
   "cell_type": "code",
   "execution_count": null,
   "metadata": {},
   "outputs": [],
   "source": [
    "#very imp ctrl z"
   ]
  },
  {
   "cell_type": "markdown",
   "metadata": {},
   "source": [
    "### Grouping\n",
    "Another way to inspect data is to group it according to some criteria. Pandas has the `groupby` function that allows us to do just that. The value returned by this function is a special grouped data frame. To have a proper `DataFrame` as a result, it is necessary to apply an aggregation function. Thus, this function will be applied to all the values in the same group.\n",
    "\n",
    "For example, in our case, if we want a `DataFrame` showing the average hours per week  for each `age_category`, we can obtain it by grouping according to `age_category` and using the mean function as the aggregation method for each group. The result would be  a DataFrame with age categories as indexes and the mean values as the column:"
   ]
  },
  {
   "cell_type": "code",
   "execution_count": null,
   "metadata": {
    "scrolled": true
   },
   "outputs": [],
   "source": [
    "# Compute average hours per week and average weight of each age category\n",
    "AvgHoursByAgeCategory = dfAdults.groupby('age_category')[['hours_per_week', 'fnlwgt']].mean()\n",
    "AvgHoursByAgeCategory"
   ]
  },
  {
   "cell_type": "code",
   "execution_count": null,
   "metadata": {
    "scrolled": true
   },
   "outputs": [],
   "source": [
    "# Number of people by Marital Status \n",
    "countByMaritalStatus = dfAdults.groupby('marital_status')[['age']].count()\n",
    "countByMaritalStatus.rename(columns={'age': 'count'}, inplace=True) # Rename age column to reflect count\n",
    "countByMaritalStatus"
   ]
  },
  {
   "cell_type": "markdown",
   "metadata": {},
   "source": [
    "### Exercise\n",
    "Compute the maximum age of the adults for each country and gender. (i.e., should produce two records for each country - one for males and one for females) "
   ]
  },
  {
   "cell_type": "code",
   "execution_count": null,
   "metadata": {},
   "outputs": [],
   "source": []
  },
  {
   "cell_type": "markdown",
   "metadata": {},
   "source": [
    "## <mark>Rearranging Data</mark>\n",
    "### Pivot Tables\n",
    "We can rearrange our data, redistributing the indexes and columns for better manipulation of data, which normally leads to better performance. We can do this by using the `pivot_table` function. Here, we can specify which columns will be the new indexes, the new values and the new columns. \n",
    "\n",
    "For example, imagine that we want to transform our `DataFrame` to a spreadsheet-like structure with the native_country as the index, while the columns will be the age categories and the values will be the average hours per week. To do this, first we need to filter out the data and then pivot it in this way:"
   ]
  },
  {
   "cell_type": "code",
   "execution_count": null,
   "metadata": {},
   "outputs": [],
   "source": [
    "pivotTable = pd.pivot_table(dfAdults, values='hours_per_week',\n",
    "                            index=['native_country'], columns=['age_category'], aggfunc = np.mean)\n",
    "pivotTable"
   ]
  },
  {
   "cell_type": "markdown",
   "metadata": {},
   "source": [
    "Now we can use the new index to select specific rows by label, using the `loc` operator."
   ]
  },
  {
   "cell_type": "code",
   "execution_count": null,
   "metadata": {
    "scrolled": true
   },
   "outputs": [],
   "source": [
    "pivotTable.loc[['China', 'Canada'], ['Youth', 'Senior']]"
   ]
  },
  {
   "cell_type": "markdown",
   "metadata": {},
   "source": [
    "### Cross-Tabulations: Crosstab\n",
    "A crosstab is a special case of a pivot table that computes group frequencies."
   ]
  },
  {
   "cell_type": "code",
   "execution_count": null,
   "metadata": {},
   "outputs": [],
   "source": [
    "# group frequencies by country and gender\n",
    "pd.crosstab(dfAdults.native_country, dfAdults.sex, margins=True)"
   ]
  },
  {
   "cell_type": "markdown",
   "metadata": {},
   "source": [
    "### Exercise\n",
    "Use a crosstab to show group frequencies for each marital status (columns), by country and gender."
   ]
  },
  {
   "cell_type": "code",
   "execution_count": null,
   "metadata": {},
   "outputs": [],
   "source": []
  },
  {
   "cell_type": "markdown",
   "metadata": {},
   "source": [
    "## <mark>Handling Missing Data</mark>\n",
    "For this section we will use the **soybean.csv** dataset.<br>\n",
    "First, let's load the data into a `DataFrame` and observe the loaded data."
   ]
  },
  {
   "cell_type": "code",
   "execution_count": null,
   "metadata": {},
   "outputs": [],
   "source": [
    "dfSoy = pd.read_csv('soybean.csv', na_values = '?')\n",
    "dfSoy"
   ]
  },
  {
   "cell_type": "code",
   "execution_count": null,
   "metadata": {},
   "outputs": [],
   "source": [
    "dfSoy.shape"
   ]
  },
  {
   "cell_type": "markdown",
   "metadata": {},
   "source": [
    "\n",
    "Pandas uses the special value `NaN` (not a number) to represent missing values. In Python, `NaN` is a special floating-point value returned by certain operations when one of their results ends in an undefined value. A subtle feature of `NaN` values is that two `NaN` are never equal. Because of this, the only safe way to tell whether or not a value is missing in a DataFrame is by using the `isnull()` function. Thus, this function can be used to filter rows with missing values."
   ]
  },
  {
   "cell_type": "code",
   "execution_count": null,
   "metadata": {},
   "outputs": [],
   "source": [
    "# get rows with 'Severity' column null\n",
    "dfSoy[dfSoy.severity.isnull()]"
   ]
  },
  {
   "cell_type": "markdown",
   "metadata": {},
   "source": [
    "### Filtering Out Missing Data"
   ]
  },
  {
   "cell_type": "code",
   "execution_count": null,
   "metadata": {},
   "outputs": [],
   "source": [
    "anyNansRowsDropped = dfSoy.dropna() # dropna() by default drops any row containing missing values\n",
    "anyNansRowsDropped.shape"
   ]
  },
  {
   "cell_type": "code",
   "execution_count": null,
   "metadata": {},
   "outputs": [],
   "source": [
    "allNansRowsDropped = dfSoy.dropna(how = 'all') # setting how='all' will drop rows with values missing for all the columns\n",
    "allNansRowsDropped.shape"
   ]
  },
  {
   "cell_type": "code",
   "execution_count": null,
   "metadata": {},
   "outputs": [],
   "source": [
    "# Let's create a new column with values missing for all the rows\n",
    "dfSoy['test'] = np.NAN\n",
    "dfSoy.shape"
   ]
  },
  {
   "cell_type": "code",
   "execution_count": null,
   "metadata": {},
   "outputs": [],
   "source": [
    "dfSoy.head()"
   ]
  },
  {
   "cell_type": "code",
   "execution_count": null,
   "metadata": {},
   "outputs": [],
   "source": [
    "# Drop columns with values missing in every row\n",
    "allNanColsDropped = dfSoy.dropna(axis = 1, how = 'all')\n",
    "print(allNanColsDropped.shape)\n",
    "allNanColsDropped.head()"
   ]
  },
  {
   "cell_type": "code",
   "execution_count": null,
   "metadata": {},
   "outputs": [],
   "source": [
    "# when you want to handle the above operations on the same dataframe, use inplace=True\n",
    "dfSoy = pd.read_csv('soybean.csv', na_values = '?')\n",
    "print('Original Size:', dfSoy.shape)\n",
    "\n",
    "dfSoy.dropna(how = 'all', inplace=True)\n",
    "print('Size After Dropping Rows with NaN in All Columns:', dfSoy.shape)\n",
    "\n",
    "dfSoy.dropna(how = 'any', inplace=True)\n",
    "print('Size After Dropping Rows with NaN in any Column:', dfSoy.shape)"
   ]
  },
  {
   "cell_type": "markdown",
   "metadata": {},
   "source": [
    "### Filling in Missing Data\n",
    "Rather than filtering out missing data, you may want to fill in the holes in various ways. **fillna** is the workhorse function for this."
   ]
  },
  {
   "cell_type": "code",
   "execution_count": null,
   "metadata": {},
   "outputs": [],
   "source": [
    "# Load Data\n",
    "dfSoy = pd.read_csv('soybean.csv', na_values = '?')\n",
    "print('Original Size:', dfSoy.shape)"
   ]
  },
  {
   "cell_type": "code",
   "execution_count": null,
   "metadata": {},
   "outputs": [],
   "source": [
    "# Calling fillna with a constant replaces missing data with that value\n",
    "dfSoy.fillna(100, inplace=True) # replace all missing fields with 100\n",
    "dfSoy.dropna(how='any', inplace=True)\n",
    "dfSoy.shape"
   ]
  },
  {
   "cell_type": "code",
   "execution_count": null,
   "metadata": {},
   "outputs": [],
   "source": [
    "# Calling fillna() with a dict, you can use a different fill value for each column\n",
    "dfSoy = pd.read_csv('soybean.csv', na_values = '?')\n",
    "dfSoy.fillna({'precip' : 100, 'temp':200}, inplace=True)\n",
    "dfSoy"
   ]
  },
  {
   "cell_type": "code",
   "execution_count": null,
   "metadata": {},
   "outputs": [],
   "source": [
    "# you may want to fill missing values with associated means or medians\n",
    "dfSoy = pd.read_csv('soybean.csv', na_values = '?')\n",
    "dfSoy.fillna({'precip' : dfSoy['precip'].mean(), 'temp':dfSoy['temp'].median()}, inplace=True)\n",
    "dfSoy"
   ]
  },
  {
   "cell_type": "markdown",
   "metadata": {},
   "source": [
    "### Handling Duplicates and Data Transformations"
   ]
  },
  {
   "cell_type": "code",
   "execution_count": null,
   "metadata": {},
   "outputs": [],
   "source": [
    "# Removing Duplicates\n",
    "dfSoy = pd.read_csv('soybean.csv', na_values = '?')\n",
    "print('Original Size', dfSoy.shape)\n",
    "dfSoy.drop_duplicates(inplace=True)\n",
    "print('Size After Dropping Duplicates', dfSoy.shape)"
   ]
  },
  {
   "cell_type": "code",
   "execution_count": null,
   "metadata": {},
   "outputs": [],
   "source": [
    "# Replacing Values. If the class is \"herbicide-injury\", replace it with \"new_class\". Can use a dict to specify new values for multiple columns\n",
    "dfSoy[dfSoy['class']=='herbicide-injury']"
   ]
  },
  {
   "cell_type": "code",
   "execution_count": null,
   "metadata": {},
   "outputs": [],
   "source": [
    "dfSoy.replace({'class':'herbicide-injury'}, value = {'class':'new_class'}, inplace=True)\n",
    "dfSoy[dfSoy['class']=='herbicide-injury']"
   ]
  },
  {
   "cell_type": "code",
   "execution_count": null,
   "metadata": {},
   "outputs": [],
   "source": [
    "dfSoy[dfSoy['class']=='new_class']"
   ]
  },
  {
   "cell_type": "markdown",
   "metadata": {},
   "source": [
    "## <mark>Combining and Merging Datasets</mark>\n",
    "Data may be spread across a number of files or databases or be arranged in a form that is not easy to analyze. This section focuses on tools to combine and join data.<br><br>\n",
    "Data contained in pandas objects can be combined in a number of ways:\n",
    " - **pandas.merge**: connects rows in DataFrames based on one or more keys (similar to database joins)\n",
    " - **pandas.concat**: concatenates or \"stacks\" together objects along an axis"
   ]
  },
  {
   "attachments": {
    "Joins.png": {
     "image/png": "[encoded data removed]"
    }
   },
   "cell_type": "markdown",
   "metadata": {},
   "source": [
    "### Database-Style DataFrame Joins\n",
    "Merge or join operations combine datasets by linking rows using one or more keys.\n",
    "\n",
    "![Joins.png](attachment:Joins.png)\n",
    "[<center>Source</center>](https://www.w3schools.com/sql/sql_join.asp)"
   ]
  },
  {
   "cell_type": "code",
   "execution_count": null,
   "metadata": {},
   "outputs": [],
   "source": [
    "dfCustomers = pd.DataFrame({'customer_id':[1,2,3], 'name':['Anne', 'Bill', 'Charolette']})\n",
    "dfCustomers"
   ]
  },
  {
   "cell_type": "code",
   "execution_count": null,
   "metadata": {},
   "outputs": [],
   "source": [
    "dfOrders = pd.DataFrame({'order_id':[1,2,3,4], 'customer_id':[2,2,1,5], 'value':[1000,2000,3000,4000]})\n",
    "dfOrders"
   ]
  },
  {
   "cell_type": "markdown",
   "metadata": {},
   "source": [
    "By default, `merge` does an inner join. The keys in the result are the intersection or the common set found on both tables. Other possible options are `left`, `right`, and `outer` joins."
   ]
  },
  {
   "cell_type": "code",
   "execution_count": null,
   "metadata": {},
   "outputs": [],
   "source": [
    "dfMerged = pd.merge(dfOrders, dfCustomers, on='customer_id')\n",
    "dfMerged"
   ]
  },
  {
   "cell_type": "code",
   "execution_count": null,
   "metadata": {},
   "outputs": [],
   "source": [
    "dfMergedLeft = pd.merge(dfOrders, dfCustomers, on='customer_id', how='left')\n",
    "dfMergedLeft"
   ]
  },
  {
   "cell_type": "code",
   "execution_count": null,
   "metadata": {},
   "outputs": [],
   "source": [
    "dfMergedRight = pd.merge(dfOrders, dfCustomers, on='customer_id', how='right')\n",
    "dfMergedRight"
   ]
  },
  {
   "cell_type": "code",
   "execution_count": null,
   "metadata": {},
   "outputs": [],
   "source": [
    "dfMergedOuter = pd.merge(dfOrders, dfCustomers, on='customer_id', how='outer')\n",
    "dfMergedOuter"
   ]
  },
  {
   "cell_type": "code",
   "execution_count": null,
   "metadata": {},
   "outputs": [],
   "source": [
    "# Suppose the Customer Name column of the Customers DataFrame is \"c_id\" instead of \"customer_id\"\n",
    "dfCustomers2 = pd.DataFrame({'c_id':[1,2,3], 'name':['Anne', 'Bill', 'Charolette']})\n",
    "dfCustomers2"
   ]
  },
  {
   "cell_type": "code",
   "execution_count": null,
   "metadata": {},
   "outputs": [],
   "source": [
    "# If the merging column names are different, they can be specified separately using \"left_on\" and \"right_on\" parameters\n",
    "dfMergedDiff = pd.merge(dfOrders, dfCustomers2, left_on ='customer_id', right_on = 'c_id')\n",
    "dfMergedDiff"
   ]
  },
  {
   "cell_type": "code",
   "execution_count": null,
   "metadata": {},
   "outputs": [],
   "source": [
    "dfMergedDiffLeft = pd.merge(dfOrders, dfCustomers2, left_on ='customer_id', right_on = 'c_id', how=\"left\")\n",
    "dfMergedDiffLeft"
   ]
  },
  {
   "cell_type": "markdown",
   "metadata": {},
   "source": [
    "### Merging with Multiple Keys"
   ]
  },
  {
   "cell_type": "code",
   "execution_count": null,
   "metadata": {},
   "outputs": [],
   "source": [
    "leftTable = pd.DataFrame({'key1':['foo', 'foo','bar'], 'key2':['one', 'two', 'one'], 'left_val':[1,2,3]})\n",
    "rightTable = pd.DataFrame({'key1':['foo', 'foo','bar','bar'], 'key2':['one', 'one', 'one','two'], 'right_val':[4,5,6,7]})"
   ]
  },
  {
   "cell_type": "code",
   "execution_count": null,
   "metadata": {},
   "outputs": [],
   "source": [
    "leftTable"
   ]
  },
  {
   "cell_type": "code",
   "execution_count": null,
   "metadata": {},
   "outputs": [],
   "source": [
    "rightTable"
   ]
  },
  {
   "cell_type": "code",
   "execution_count": null,
   "metadata": {},
   "outputs": [],
   "source": [
    "pd.merge(leftTable, rightTable, on=['key1', 'key2'])"
   ]
  },
  {
   "cell_type": "code",
   "execution_count": null,
   "metadata": {},
   "outputs": [],
   "source": [
    "dfLeft = pd.DataFrame({'key1':['foo', 'foo','bar'], 'key2':['one', 'two', 'one'], 'left_val':[1,2,3]})\n",
    "dfRight = pd.DataFrame({'key3':['foo', 'foo','bar','bar'], 'key4':['one', 'one', 'one','two'], 'right_val':[4,5,6,7]})"
   ]
  },
  {
   "cell_type": "code",
   "execution_count": null,
   "metadata": {},
   "outputs": [],
   "source": [
    "dfLeft"
   ]
  },
  {
   "cell_type": "code",
   "execution_count": null,
   "metadata": {
    "scrolled": true
   },
   "outputs": [],
   "source": [
    "dfRight"
   ]
  },
  {
   "cell_type": "markdown",
   "metadata": {},
   "source": [
    "Let's merge `dfLeft` and `dfRight` by an inner join on `dfLeft.key1 = dfRight.key3` and `dfLeft.key2 = dfRight.key4` "
   ]
  },
  {
   "cell_type": "code",
   "execution_count": null,
   "metadata": {},
   "outputs": [],
   "source": [
    "pd.merge(dfLeft, dfRight, left_on=['key1', 'key2'], right_on=['key3', 'key4'])"
   ]
  },
  {
   "cell_type": "markdown",
   "metadata": {},
   "source": [
    "### Exercise\n",
    "Use the DataFrame merge function to answer the following questions:\n",
    "1. How many shares of S1 does Anne hold?\n",
    "2. How many shares of Yahoo does John hold?"
   ]
  },
  {
   "cell_type": "code",
   "execution_count": null,
   "metadata": {},
   "outputs": [],
   "source": [
    "dfInvestors = pd.DataFrame({'INo':['I1', 'I2', 'I3'],'IName':['Anne', 'John', 'Elizabeth'],'PhoneNo':['412-456-4567', '585-673-4572', '763-567-8953']})\n",
    "dfSecurities =  pd.DataFrame({'SNo':['S1', 'S2', 'S3', 'S4', 'S5', 'S6'], 'SName':['Microsoft', 'Kodak', 'IBM','Xerox', 'Amazon', 'Yahoo'], 'Price':[78, 45, 68, 123, 34,78]})\n",
    "dfHoldings = pd.DataFrame({'INo':['I1','I1','I1','I1','I2','I2','I3','I3','I3'],'SNo':['S1','S2','S3','S4','S2','S6','S1','S3','S4'],'Qty':[500, 2000, 90,200,917,324,1000,346,780]})"
   ]
  },
  {
   "cell_type": "code",
   "execution_count": null,
   "metadata": {},
   "outputs": [],
   "source": [
    "dfInvestors"
   ]
  },
  {
   "cell_type": "code",
   "execution_count": null,
   "metadata": {},
   "outputs": [],
   "source": [
    "dfSecurities"
   ]
  },
  {
   "cell_type": "code",
   "execution_count": null,
   "metadata": {},
   "outputs": [],
   "source": [
    "dfHoldings"
   ]
  },
  {
   "cell_type": "code",
   "execution_count": null,
   "metadata": {},
   "outputs": [],
   "source": []
  },
  {
   "cell_type": "code",
   "execution_count": null,
   "metadata": {},
   "outputs": [],
   "source": []
  },
  {
   "cell_type": "markdown",
   "metadata": {},
   "source": [
    "### Concatenating Along an Axis"
   ]
  },
  {
   "cell_type": "code",
   "execution_count": null,
   "metadata": {},
   "outputs": [],
   "source": [
    "# Combine two DataFrames with identical columns\n",
    "df1 = pd.DataFrame([['a', 1], ['b', 2]], columns=['letter', 'number'])\n",
    "df2 = pd.DataFrame([['c', 3], ['d', 4]], columns=['letter', 'number'])"
   ]
  },
  {
   "cell_type": "code",
   "execution_count": null,
   "metadata": {},
   "outputs": [],
   "source": [
    "df1"
   ]
  },
  {
   "cell_type": "code",
   "execution_count": null,
   "metadata": {},
   "outputs": [],
   "source": [
    "df2"
   ]
  },
  {
   "cell_type": "code",
   "execution_count": null,
   "metadata": {},
   "outputs": [],
   "source": [
    "pd.concat([df1, df2])"
   ]
  },
  {
   "cell_type": "code",
   "execution_count": null,
   "metadata": {},
   "outputs": [],
   "source": [
    "df3 = pd.DataFrame([['c', 3, 'cat'], ['d', 4, 'dog']], columns=['letter', 'number', 'animal'])\n",
    "df3"
   ]
  },
  {
   "cell_type": "code",
   "execution_count": null,
   "metadata": {},
   "outputs": [],
   "source": [
    "# Combine DataFrame objects with overlapping columns and return everything. \n",
    "# Columns outside the intersection will be filled with NaN values.\n",
    "pd.concat([df1, df3], sort=False, ignore_index=True)"
   ]
  },
  {
   "cell_type": "code",
   "execution_count": null,
   "metadata": {},
   "outputs": [],
   "source": [
    "# Combine DataFrame objects with overlapping columns and return only those that are shared \n",
    "pd.concat([df1, df3], join=\"inner\", ignore_index=True)"
   ]
  },
  {
   "cell_type": "code",
   "execution_count": null,
   "metadata": {},
   "outputs": [],
   "source": [
    "df4 = pd.DataFrame([['bird', 'polly'], ['monkey', 'george']],  columns=['animal', 'name'])\n",
    "df4"
   ]
  },
  {
   "cell_type": "code",
   "execution_count": null,
   "metadata": {},
   "outputs": [],
   "source": [
    "# Combine DataFrame objects horizontally, by specifying the axis\n",
    "pd.concat([df1, df4], axis=1)"
   ]
  },
  {
   "cell_type": "markdown",
   "metadata": {},
   "source": [
    "## <mark>Computing Dummy Variables</mark>"
   ]
  },
  {
   "cell_type": "code",
   "execution_count": null,
   "metadata": {},
   "outputs": [],
   "source": [
    "import seaborn as sns\n",
    "\n",
    "tips = sns.load_dataset(\"tips\") # loading the tips dataset\n",
    "tips.head()"
   ]
  },
  {
   "cell_type": "code",
   "execution_count": null,
   "metadata": {},
   "outputs": [],
   "source": [
    "dfDummies = pd.get_dummies(tips['smoker'], prefix='smoker')\n",
    "tips.join(dfDummies)# Add the new dummy variables to parent data frame"
   ]
  },
  {
   "cell_type": "markdown",
   "metadata": {},
   "source": [
    "## <mark>Detecting and Filtering Outliers</mark>\n",
    "\n",
    "Filtering or transforming outliers is largely a matter of applying array operations. However, a boxplot can be helpful in visualizing potential outliers."
   ]
  },
  {
   "cell_type": "code",
   "execution_count": null,
   "metadata": {
    "scrolled": true
   },
   "outputs": [],
   "source": [
    "sns.set(style=\"whitegrid\")\n",
    "\n",
    "tips = sns.load_dataset(\"tips\") # loading the tips dataset\n",
    "ax = sns.boxplot(x=tips[\"total_bill\"], orient='v', linewidth=2.5) "
   ]
  },
  {
   "cell_type": "code",
   "execution_count": null,
   "metadata": {
    "scrolled": false
   },
   "outputs": [],
   "source": [
    "# Remove outliers based on the IQR (Inter Quratile Range)\n",
    "bill_q1 = tips['total_bill'].quantile(0.25) # Q1\n",
    "bill_q3 = tips['total_bill'].quantile(0.75) # Q3\n",
    "outlier_margin = bill_q3+((bill_q3-bill_q1)*1.5) # Q3-Q1 is the IQR. Data points outside 1.5 IQR are considered to be outliers\n",
    "\n",
    "print('Q1:', bill_q1, 'Q3:', bill_q3, 'Outlier Margin:', outlier_margin)\n",
    "outliersRemoved=tips[tips['total_bill'] < outlier_margin]\n",
    "\n",
    "print('Original DataFrame Size:', tips.shape)\n",
    "print('DataFrame Size after Outliers Removed:', outliersRemoved.shape)\n",
    "outliersRemoved.head()"
   ]
  },
  {
   "cell_type": "markdown",
   "metadata": {},
   "source": [
    "### References\n",
    "\n",
    " - [Pandas documentation](https://pandas.pydata.org/pandas-docs/stable/index.html)\n",
    " - Chapter 5 of Python for Data Analysis 2<sup>nd</sup> edition - Wes McKinney O'RIELLY"
   ]
  }
 ],
 "metadata": {
  "kernelspec": {
   "display_name": "Python 3",
   "language": "python",
   "name": "python3"
  },
  "language_info": {
   "codemirror_mode": {
    "name": "ipython",
    "version": 3
   },
   "file_extension": ".py",
   "mimetype": "text/x-python",
   "name": "python",
   "nbconvert_exporter": "python",
   "pygments_lexer": "ipython3",
   "version": "3.7.3"
  }
 },
 "nbformat": 4,
 "nbformat_minor": 2
}
