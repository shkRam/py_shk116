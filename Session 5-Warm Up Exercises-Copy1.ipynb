{
 "cells": [
  {
   "cell_type": "markdown",
   "metadata": {},
   "source": [
    "# BMIS-2542: Data Programming Essentials with Python \n",
    "##### Katz Graduate School of Business, Fall 2019\n",
    "\n",
    "\n",
    "## Session-5: Warm Up Exercises (Python Basics)\n",
    "***"
   ]
  },
  {
   "cell_type": "markdown",
   "metadata": {},
   "source": [
    "**For this exercise, use the `WorldSeriesChampions.txt`, available in the CourseWeb.<br>**\n",
    "\n",
    "`WorldSeriesChampions.txt` contains a chronological list of the [World Series' Champions](https://en.wikipedia.org/wiki/List_of_World_Series_champions) from 1903 through 2018.<br>The first line in the file is the name of the team that won in 1903, and the last line is the name of the team that won in 2018.<br>\n",
    "Note that the **World Series was not played in 1904 and 1994**.\n",
    "\n",
    "<div class=\"alert alert-info\"><font color = 'black'><b>Goal:</b><br>Write a program that prompts the user for a year in the range of 1903 through 2018.<br>\n",
    "It should then display the name of the team that won the World Series that year, and the number of times that team has won the World Series.<br>(e.g., Given year 2018, should display: <i>Boston Red Sox won the World Series in 2018. They have won 8 times in the 1903-2018 period</i>)</font><div>"
   ]
  },
  {
   "cell_type": "markdown",
   "metadata": {},
   "source": [
    "Your program should address the following:<br>\n",
    "\n",
    "**<u> Input Validations</u>**\n",
    " 1. If the user entered a year outside the 1903-2018 range, display `Invalid Input!`\n",
    " 2. If the user entered the year 1904 or 1994, display a message informing the user that World Series was not played in these years.<br>\n",
    " \n",
    "**<u>Structure</u>**<br>\n",
    "\n",
    "1. Write the function `readChampionsFile` that accepts a year as an argument and returns the final message for the user.<br>\n",
    "Your function should address the following:\n",
    " - read `WorldSeriesChampions.txt`\n",
    " - create the dictionary `dictWins` (in the `team:wins` format) in which keys are the names of the teams, and each key's assocated value is the number of times the team has won the World Series.\n",
    " - create another dictionary `dictYears` (in the `year:team` format) in which the keys are the years and each key's associated value is the name of the team that won that year (NOTE: Handle 1904 and 1994 years appropriately as the World Series was not played in 1904 and 1994 hence do not contain entries in file).\n",
    " - create the final message to be displayed to the user and returns it \n",
    " \n",
    "At this point, you can test your program fully for the correct functionality.\n",
    " \n",
    "2. Modify your program to write the two dictionaries you created above to text files (one file for each dictionary), as per the instructions given below:\n",
    " - Write the function `writeToFile` that accepts two arguments: output file path and a dictionary.<br>The function needs to create a new text file in the given output path and write the entries in the input directory to that file in the `key:value` format.\n",
    " - Inspect the new files you created and ensure that they contain the intended content. "
   ]
  },
  {
   "cell_type": "code",
   "execution_count": 2,
   "metadata": {},
   "outputs": [],
   "source": [
    "# This function accepts a year in the range 1903 - 2018 and returns the final message\n",
    "def readChampionsFile(year):\n",
    "    if year> 1994 or year < 1903:\n",
    "        print(\"Invalid inout\")\n",
    "    elif year == 1904 or year == 1994:\n",
    "        print(\"Game was not played\",1904)\n",
    "    else:\n",
    "        dictWins = {}\n",
    "        dictYears = {}\n",
    "        j = 1902\n",
    "        opn = open(\"C:/Users/Sunny/Documents/py_jupyter/WorldSeriesChampions.txt\")\n",
    "        x = opn.readline()\n",
    "        dictWins = x\n",
    "        for j in range(1902,2008)\n",
    "            i = i + 1\n",
    "            dictYears[j] = "
   ]
  },
  {
   "cell_type": "code",
   "execution_count": 6,
   "metadata": {},
   "outputs": [
    {
     "ename": "SyntaxError",
     "evalue": "unexpected EOF while parsing (<ipython-input-6-c8c137541555>, line 4)",
     "output_type": "error",
     "traceback": [
      "\u001b[1;36m  File \u001b[1;32m\"<ipython-input-6-c8c137541555>\"\u001b[1;36m, line \u001b[1;32m4\u001b[0m\n\u001b[1;33m    \u001b[0m\n\u001b[1;37m    ^\u001b[0m\n\u001b[1;31mSyntaxError\u001b[0m\u001b[1;31m:\u001b[0m unexpected EOF while parsing\n"
     ]
    }
   ],
   "source": [
    "# this function accepts two arguments: output file path and a dictionary\n",
    "# it writes each key value pair in the dictionary to a line in the output file in the <key:value> format\n",
    "def writeToFile(outputFilePath, dictionary):    \n",
    "    "
   ]
  },
  {
   "cell_type": "code",
   "execution_count": 13,
   "metadata": {},
   "outputs": [
    {
     "name": "stdout",
     "output_type": "stream",
     "text": [
      " the year in range 1903-20182010\n"
     ]
    },
    {
     "ename": "NameError",
     "evalue": "name 'readChampionsFile' is not defined",
     "output_type": "error",
     "traceback": [
      "\u001b[1;31m---------------------------------------------------------------------------\u001b[0m",
      "\u001b[1;31mNameError\u001b[0m                                 Traceback (most recent call last)",
      "\u001b[1;32m<ipython-input-13-10d7a7cdeb5e>\u001b[0m in \u001b[0;36m<module>\u001b[1;34m\u001b[0m\n\u001b[0;32m      3\u001b[0m \u001b[1;32mimport\u001b[0m \u001b[0mos\u001b[0m\u001b[1;33m\u001b[0m\u001b[1;33m\u001b[0m\u001b[0m\n\u001b[0;32m      4\u001b[0m \u001b[0myear\u001b[0m \u001b[1;33m=\u001b[0m \u001b[0mint\u001b[0m\u001b[1;33m(\u001b[0m\u001b[0minput\u001b[0m\u001b[1;33m(\u001b[0m\u001b[1;34m\" the year in range 1903-2018\"\u001b[0m\u001b[1;33m)\u001b[0m\u001b[1;33m)\u001b[0m\u001b[1;33m\u001b[0m\u001b[1;33m\u001b[0m\u001b[0m\n\u001b[1;32m----> 5\u001b[1;33m \u001b[0mreadChampionsFile\u001b[0m\u001b[1;33m(\u001b[0m\u001b[0myear\u001b[0m\u001b[1;33m)\u001b[0m\u001b[1;33m\u001b[0m\u001b[1;33m\u001b[0m\u001b[0m\n\u001b[0m",
      "\u001b[1;31mNameError\u001b[0m: name 'readChampionsFile' is not defined"
     ]
    }
   ],
   "source": [
    "# Main Pogram : This program prompts the user to input an year in the range 1903-2018.\n",
    "# It prints out which team wons the world series that year and how many times they won in 1903-2018 period.\n",
    "import os\n",
    "year = int(input(\" the year in range 1903-2018\"))\n",
    "readChampionsFile(year)"
   ]
  },
  {
   "cell_type": "code",
   "execution_count": null,
   "metadata": {},
   "outputs": [],
   "source": []
  },
  {
   "cell_type": "code",
   "execution_count": null,
   "metadata": {},
   "outputs": [],
   "source": []
  }
 ],
 "metadata": {
  "kernelspec": {
   "display_name": "Python 3",
   "language": "python",
   "name": "python3"
  },
  "language_info": {
   "codemirror_mode": {
    "name": "ipython",
    "version": 3
   },
   "file_extension": ".py",
   "mimetype": "text/x-python",
   "name": "python",
   "nbconvert_exporter": "python",
   "pygments_lexer": "ipython3",
   "version": "3.7.3"
  }
 },
 "nbformat": 4,
 "nbformat_minor": 2
}
