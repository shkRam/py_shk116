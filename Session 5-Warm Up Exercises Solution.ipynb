{
 "cells": [
  {
   "cell_type": "markdown",
   "metadata": {},
   "source": [
    "# BMIS-2542: Data Programming Essentials with Python \n",
    "##### Katz Graduate School of Business, Fall 2019\n",
    "\n",
    "\n",
    "## Session-5: Warm Up Exercises (Python Basics)\n",
    "***"
   ]
  },
  {
   "cell_type": "markdown",
   "metadata": {},
   "source": [
    "**For this exercise, use the `WorldSeriesChampions.txt`, available in the CourseWeb.<br>**\n",
    "\n",
    "`WorldSeriesChampions.txt` contains a chronological list of the [World Series' Champions](https://en.wikipedia.org/wiki/List_of_World_Series_champions) from 1903 through 2018.<br>The first line in the file is the name of the team that won in 1903, and the last line is the name of the team that won in 2018.<br>\n",
    "Note that the **World Series was not played in 1904 and 1994**.\n",
    "\n",
    "<div class=\"alert alert-info\"><font color = 'black'><b>Goal:</b><br>Write a program that prompts the user for a year in the range of 1903 through 2018.<br>\n",
    "It should then display the name of the team that won the World Series that year, and the number of times that team has won the World Series.<br>(e.g., Given year 2018, should display: <i>Boston Red Sox won the World Series in 2018. They have won 8 times in the 1903-2018 period</i>)</font><div>"
   ]
  },
  {
   "cell_type": "markdown",
   "metadata": {},
   "source": [
    "Your program should address the following:<br>\n",
    "\n",
    "**<u> Input Validations</u>**\n",
    " 1. If the user entered a year outside the 1903-2018 range, display `Invalid Input!`\n",
    " 2. If the user entered the year 1904 or 1994, display a message informing the user that World Series was not played in these years.<br>\n",
    " \n",
    "**<u>Structure</u>**<br>\n",
    "\n",
    "1. Write the function `readChampionsFile` that accepts a year as an argument and returns the final message for the user.<br>\n",
    "Your function should address the following:\n",
    " - read `WorldSeriesChampions.txt`\n",
    " - create the dictionary `dictWins` (in the `team:wins` format) in which keys are the names of the teams, and each key's assocated value is the number of times the team has won the World Series.\n",
    " - create another dictionary `dictYears` (in the `year:team` format) in which the keys are the years and each key's associated value is the name of the team that won that year (NOTE: <font color='navy'>Handle 1904 and 1994 years appropriately as the World Series was not played in 1904 and 1994 hence do not contain entries in file</font>).\n",
    " - create the final message to be displayed to the user and returns it \n",
    " \n",
    "At this point, you can test your program fully for the correct functionality.\n",
    " \n",
    "2. Modify your program to write the two dictionaries you created above to text files (one file for each dictionary), as per the instructions given below:\n",
    " - Write the function `writeToFile` that accepts two arguments: output file path and a dictionary.<br>The function needs to create a new text file in the given output path and write the entries in the input directory to that file in the `key:value` format.\n",
    " - Inspect the new files you created and ensure that they contain the intended content. "
   ]
  },
  {
   "cell_type": "code",
   "execution_count": 4,
   "metadata": {},
   "outputs": [],
   "source": [
    "# This function accepts a year in the range 1903 - 2018 and returns a message\n",
    "def readChampionsFile(year):\n",
    "    txtFile = open('WorldSeriesChampions.txt','r', encoding='utf8') # Open and reads the text file\n",
    "    teams = txtFile.readlines() # get the list of lines in the file\n",
    "\n",
    "    dictWins = {}   # dictionary to hold <team:wins>\n",
    "    dictYears = {}  # dictionary to hold <year:winner>\n",
    "    year = 1902 # initialize an integer variable to keep track of years\n",
    "\n",
    "    for team in teams: # iterate over the lines in the text file\n",
    "        team = team.rstrip('\\n') # remove the new line character at the end of the line     \n",
    "        \n",
    "        year = year + 1 # increment year by 1 (e.g., team in the first line would get 1903)\n",
    "        \n",
    "        if year in (1904,1994): # 1904 and 1994 need to be ignored as world series was not played\n",
    "            year = year + 1\n",
    "        \n",
    "        # populate the dictWins dictionary\n",
    "        if team in dictWins: # if the team is already in the dictionary,\n",
    "            dictWins[team] = dictWins[team] + 1 # increment the count by 1\n",
    "        else: # if the team is not in the dictionary,\n",
    "            dictWins[team] = 1 # start with 1\n",
    "                 \n",
    "        dictYears[year] = team # populate the dictYears dictionary\n",
    "            \n",
    "    # write dictionary data to files\n",
    "    writeToFile('WinningCounts.txt', dictWins)\n",
    "    writeToFile('WinnerByYear.txt', dictYears)\n",
    "    \n",
    "    # build the return message to the user\n",
    "    message = '{0} won the World Series in {1}. They have won {2} times in the 1903-2018 period.'.format(dictYears[inputYear], inputYear, dictWins[dictYears[inputYear]])\n",
    "    \n",
    "    return message"
   ]
  },
  {
   "cell_type": "code",
   "execution_count": 5,
   "metadata": {},
   "outputs": [],
   "source": [
    "# this function accepts two arguments: output file path and a dictionary\n",
    "# it writes each key value pair in the dictionary to a line in the output file in the <key:value> format\n",
    "def writeToFile(outputFilePath, dictionary):    \n",
    "    outputFile = open(outputFilePath,'w', encoding='utf-8') # open a new file to write\n",
    "    for key in dictionary: # iterate over the keys in the input dictionary  \n",
    "        outputFile.write('{0}:{1}\\n'.format(key, dictionary[key])) # write the key and value to file  \n",
    "    outputFile.close() # close the file"
   ]
  },
  {
   "cell_type": "code",
   "execution_count": 6,
   "metadata": {},
   "outputs": [
    {
     "name": "stdout",
     "output_type": "stream",
     "text": [
      "Enter a year in the range 1903-2018:2003\n",
      "Florida Marlins won the World Series in 2003. They have won 2 times in the 1903-2018 period.\n"
     ]
    }
   ],
   "source": [
    "# This program prompts the user to input an year in the range 1903-2018.\n",
    "# it prints out which team wons the world series that year and how many times they won in 1903-2018 period.\n",
    "\n",
    "try:\n",
    "    inputYear = int(input('Enter a year in the range 1903-2018:')) # prompt the user\n",
    "\n",
    "    if inputYear in (1904,1994): # display a message, if the input year is 1904 or 1994\n",
    "        print('World Series was not played in {0}.'.format(inputYear))\n",
    "    elif inputYear < 1903 or inputYear > 2018: # validate the input year for the given range and display a message for invalid input\n",
    "        print('Invalid Input!')\n",
    "    else:\n",
    "        print(readChampionsFile(inputYear)) # correct input year. Display the intended message\n",
    "except Exception as ex:\n",
    "    print('ERROR:', ex)"
   ]
  },
  {
   "cell_type": "code",
   "execution_count": null,
   "metadata": {},
   "outputs": [],
   "source": []
  }
 ],
 "metadata": {
  "kernelspec": {
   "display_name": "Python 3",
   "language": "python",
   "name": "python3"
  },
  "language_info": {
   "codemirror_mode": {
    "name": "ipython",
    "version": 3
   },
   "file_extension": ".py",
   "mimetype": "text/x-python",
   "name": "python",
   "nbconvert_exporter": "python",
   "pygments_lexer": "ipython3",
   "version": "3.7.3"
  }
 },
 "nbformat": 4,
 "nbformat_minor": 2
}
