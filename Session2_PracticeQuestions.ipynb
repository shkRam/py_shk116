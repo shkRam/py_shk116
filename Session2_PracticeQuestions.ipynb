{
 "cells": [
  {
   "cell_type": "markdown",
   "metadata": {},
   "source": [
    "\n",
    "# BMIS-2542: Data Programming with Python \n",
    "##### Katz Graduate School of Business, Fall 2019\n",
    "\n",
    "\n",
    "## Session-2: Try it out: Practice Questions\n",
    "***"
   ]
  },
  {
   "cell_type": "markdown",
   "metadata": {},
   "source": [
    "### Try it out #1:\n",
    "Write Python code to check if the following conditions are met for a given integer entered by a user. Include print statements to indicate the outcome:\n",
    " - given integer is positive but less than 5\n",
    " - given integer is positive and greater than or equal to 5"
   ]
  },
  {
   "cell_type": "code",
   "execution_count": null,
   "metadata": {},
   "outputs": [],
   "source": []
  },
  {
   "cell_type": "markdown",
   "metadata": {},
   "source": [
    "### Try it out #2:\n",
    "(a) Define the boolean variable `raining` that indicates a rainy day. Use this variable to print `Stay indoors!` if it is a rainy day, and to print `Go outside and play!` if it is not."
   ]
  },
  {
   "cell_type": "code",
   "execution_count": null,
   "metadata": {},
   "outputs": [],
   "source": [
    "print('if raining input TRUE or FALSE')\n",
    "raining  = input()\n",
    "if (raining == 1):\n",
    "    print('stay indors')\n",
    "else:\n",
    "    print('Go outside')\n",
    "\n"
   ]
  },
  {
   "cell_type": "markdown",
   "metadata": {},
   "source": [
    "### Try it out #3:\n",
    "Say the temperature of your coffee is now 115 degrees Fahrenheit. You want it at 100 degrees. <br>A chip of ice can lower the temperature by one degree each time. Before adding ice each time, you test and note the temperature of your coffee. You go on until the desired temperature is reached.<br><br>\n",
    "Use a while loop to reflect this test procedure.<br>"
   ]
  },
  {
   "cell_type": "code",
   "execution_count": 3,
   "metadata": {},
   "outputs": [
    {
     "name": "stdout",
     "output_type": "stream",
     "text": [
      "current temp120\n",
      "120\n",
      "add ice\n",
      "number of chip of ice1\n",
      "119\n",
      "add ice\n",
      "number of chip of ice1\n",
      "118\n",
      "add ice\n",
      "number of chip of ice1\n",
      "117\n",
      "add ice\n",
      "number of chip of ice1\n",
      "116\n",
      "add ice\n",
      "number of chip of ice1\n",
      "you can have the coffee\n"
     ]
    }
   ],
   "source": [
    "coffeet = input('current temp')\n",
    "coffeet = int(coffeet)\n",
    "while coffeet > 115:\n",
    "    print (coffeet)\n",
    "    print('add ice')\n",
    "    x = input('number of chip of ice')\n",
    "    x = int(x)\n",
    "    coffeet = coffeet - x\n",
    "    if coffeet == 115:\n",
    "        break\n",
    "print('you can have the coffee')        "
   ]
  },
  {
   "cell_type": "markdown",
   "metadata": {},
   "source": [
    "### Try it out #4:\n",
    "  (a) Use a `for` loop to print out all the numbers from 2-10, inclusive. <br>\n",
    "  (b) Use `break` and `continue` and modify your code to prevent `3` and `5`from printing, and to exit the loop after printing `7`.  "
   ]
  },
  {
   "cell_type": "code",
   "execution_count": 3,
   "metadata": {},
   "outputs": [
    {
     "name": "stdout",
     "output_type": "stream",
     "text": [
      "2\n",
      "4\n",
      "6\n",
      "7\n",
      "8\n",
      "9\n",
      "10\n"
     ]
    }
   ],
   "source": [
    "for i in range(2,11):\n",
    "    if (i == 3) or (i == 5):\n",
    "        continue\n",
    "    elif(i==11):    \n",
    "        break\n",
    "    print(i)"
   ]
  },
  {
   "cell_type": "markdown",
   "metadata": {},
   "source": [
    "### Try it out #5:\n",
    "Use a `for` loop to print out the odd numbers from 1-10. Hint: Use the range function and the % (modulo) operator."
   ]
  },
  {
   "cell_type": "code",
   "execution_count": 7,
   "metadata": {},
   "outputs": [
    {
     "name": "stdout",
     "output_type": "stream",
     "text": [
      "odd number 1\n",
      "odd number 3\n",
      "odd number 5\n",
      "odd number 7\n",
      "odd number 9\n"
     ]
    }
   ],
   "source": [
    "for i in range(1,10):\n",
    "    if i%2 == 1:\n",
    "         print(\"odd number \"+ str(i))"
   ]
  },
  {
   "cell_type": "markdown",
   "metadata": {},
   "source": [
    "### Try it out #6:\n",
    "Write a function that takes a number as an argument (e.g., devideBy) and returns 100 devided by that number (100/devideBy).<br>\n",
    "Handle the possibility that `devideBy=0` as well."
   ]
  },
  {
   "cell_type": "code",
   "execution_count": 12,
   "metadata": {},
   "outputs": [
    {
     "name": "stdout",
     "output_type": "stream",
     "text": [
      "enter the number you want to divide by\n",
      "25\n",
      "4.0\n"
     ]
    }
   ],
   "source": [
    "def devideby():\n",
    "    print(\"enter the number you want to divide by\")\n",
    "    divideBy = input()\n",
    "    return divideBy\n",
    "z = 100/int(devideby())\n",
    "print (z) \n"
   ]
  },
  {
   "cell_type": "markdown",
   "metadata": {},
   "source": [
    "### Try it out #7:\n",
    "\n",
    "Study the following code (without executing it on Jupyter) and determine the expected output. \n",
    "\n",
    "`z = 10` \n",
    "\n",
    "`def function1(): \n",
    "    global z \n",
    "    z = 3`\n",
    "    \n",
    "`def function2(x,y):\n",
    "    global z\n",
    "    return x+y+z`\n",
    "    \n",
    "`function1()\n",
    "total = function2(4,5) \n",
    "print(total)`"
   ]
  },
  {
   "cell_type": "markdown",
   "metadata": {},
   "source": []
  },
  {
   "cell_type": "markdown",
   "metadata": {},
   "source": [
    "### Try it out #8:\n",
    "Write a program that asks the user for a number in the range of 1 through 7. The program should display the corresponding day of the week, where `1 = Monday, 2 = Tuesday, 3 = Wednesday, 4 = Thursday, 5 = Friday, 6 = Saturday, and 7=Sunday`. \n",
    "The program should display an error message if the user enters a number that is outside the range of 1 through 7."
   ]
  },
  {
   "cell_type": "code",
   "execution_count": 18,
   "metadata": {},
   "outputs": [
    {
     "name": "stdout",
     "output_type": "stream",
     "text": [
      "Enter the day7\n",
      "Sun\n"
     ]
    }
   ],
   "source": [
    "day = input(\"Enter the day\")\n",
    "day = int(day)\n",
    "c = 0\n",
    "days = [\"Monday\",\"TUESDAY\",\"WEDNESDAY\",\"Thu\",\"Fri\",\"Sat\",\"Sun\"]\n",
    "for i in range(0,7):\n",
    "    if day == (i+1):\n",
    "        print(days[i])\n",
    "        c = c+1\n",
    "if c == 0:\n",
    " print(\"invalid input\")\n"
   ]
  },
  {
   "cell_type": "markdown",
   "metadata": {},
   "source": [
    "### Try it out #9:\n",
    "The month of February normally has 28 days. But if it is a leap year, February has 29 days. Write a program that asks the user to enter a year. The program should then display the number of days in February that year. Use the following criteria to identify leap years:\n",
    " 1. Determine whether the year is devisible by 100. If it is, then it is a leap year if and only if it is also devisible by 400. For example, `2000` is a leap year, but `2100` is not.\n",
    " 2. If the year is not devisible by 100, then it is a leap year if and only if it is divisible by 4. For example, `2008` is a leap year, but 2009 is not."
   ]
  },
  {
   "cell_type": "code",
   "execution_count": 36,
   "metadata": {},
   "outputs": [
    {
     "name": "stdout",
     "output_type": "stream",
     "text": [
      "enter the year2100\n",
      "not a leap year\n"
     ]
    }
   ],
   "source": [
    "z = input(\"enter the year\")\n",
    "z = int(z)\n",
    "if (z%100 == 0):\n",
    "        if(z%400 == 0):\n",
    "            print(\"leap year\")\n",
    "        else:\n",
    "            print(\"not a leap year\")\n",
    "elif (z%4 == 0):\n",
    "    print(\"leap year\")\n",
    "else:\n",
    "    print(\"not leap year\")"
   ]
  },
  {
   "cell_type": "markdown",
   "metadata": {},
   "source": [
    "### Try it out #10:\n",
    "It is said that one can lose 4 pounds a month if the total calorie intake in a day is reduced by about 500 calories (equivalent of about 5 bananas). Write a program that prompts a user to enter their current weight. The program should, then, show what the user's expected weight will be at the end of each month for the next one year if the user plans to reduce their calorie intake by 500 calories a day."
   ]
  },
  {
   "cell_type": "code",
   "execution_count": 39,
   "metadata": {},
   "outputs": [
    {
     "name": "stdout",
     "output_type": "stream",
     "text": [
      "your weight50\n",
      "Weight in Jan46.0\n",
      "Weight in Feb42.0\n",
      "Weight in Mar38.0\n",
      "Weight in Apr34.0\n",
      "Weight in May30.0\n",
      "Weight in June26.0\n",
      "Weight in July22.0\n",
      "Weight in Aug18.0\n",
      "Weight in Sep14.0\n",
      "Weight in Oct10.0\n",
      "Weight in Nov6.0\n",
      "Weight in Dec2.0\n"
     ]
    }
   ],
   "source": [
    "wt = float(input(\"your weight\"))\n",
    "mnth = [\"Jan\",\"Feb\",\"Mar\",\"Apr\",\"May\",\"June\",\"July\",\"Aug\",\"Sep\",\"Oct\",\"Nov\",\"Dec\"]\n",
    "for i in range(1,13):\n",
    "    wt = wt - 4\n",
    "    print(\"Weight in \"+  mnth[i-1] + str(wt))"
   ]
  },
  {
   "cell_type": "markdown",
   "metadata": {},
   "source": [
    "### Try it out #11:\n",
    "The notation, $n!$, reprsents the factorial of the nonnegative integer $n$. The factorial of $n$ is the product of all the nonnegative integers from 1 to $n$. <br>\n",
    "\n",
    "For example: <br>\n",
    "$$7! = 1\\times2\\times3\\times4\\times5\\times6\\times7 = 5,040$$ <br> \n",
    "$$4! = 1\\times2\\times3\\times4 = 24$$ <br>\n",
    "Also by definition, $0!=1$. <br>\n",
    "\n",
    "Write a program that prompts a user to enter a non negative integer, uses a loop to calculate the factorial of that number, and then, display the factorial value back to the user."
   ]
  },
  {
   "cell_type": "code",
   "execution_count": null,
   "metadata": {},
   "outputs": [],
   "source": []
  },
  {
   "cell_type": "markdown",
   "metadata": {},
   "source": [
    "### Try it out #12:\n",
    "Write a program that uses nested loops to collect monthly rainfall data from a user and, then, calculates the average rainfall over a period of years. The program should first prompt a user for the number of years they have data to enter, and then for each month of the years in that period, the user should be prompted to enter their monthly rainfall data. Finally, the program should display the number of months entered, the total inches of rainfall recorded by the user, and the average rainfall per month for the user's entire recorded time period."
   ]
  },
  {
   "cell_type": "code",
   "execution_count": 55,
   "metadata": {},
   "outputs": [
    {
     "name": "stdout",
     "output_type": "stream",
     "text": [
      "Enter number of years you want to collect data1\n",
      "input the rain fall for month Jan in year 120\n",
      "input the rain fall for month Feb in year 125\n",
      "input the rain fall for month Mar in year 120\n",
      "input the rain fall for month Apr in year 125\n",
      "input the rain fall for month May in year 120\n",
      "input the rain fall for month June in year 125\n",
      "input the rain fall for month July in year 120\n",
      "input the rain fall for month Aug in year 125\n",
      "input the rain fall for month Sep in year 120\n",
      "input the rain fall for month Oct in year 125\n",
      "input the rain fall for month Nov in year 120\n",
      "input the rain fall for month Dec in year 125\n",
      "average of month22.5\n"
     ]
    }
   ],
   "source": [
    "no_yr = int(input(\"Enter number of years you want to collect data\"))\n",
    "mnth = [\"Jan\",\"Feb\",\"Mar\",\"Apr\",\"May\",\"June\",\"July\",\"Aug\",\"Sep\",\"Oct\",\"Nov\",\"Dec\"]\n",
    "c = 0.0\n",
    "no = 0.0\n",
    "for i in range(1,(no_yr+1)):\n",
    "    for j in range(1,13):\n",
    "            c = c + float(input(\"input the rain fall for month {} in year {}\".format(mnth[j-1], i  )))\n",
    "            no = no + 1\n",
    "mean = c/no\n",
    "print(\"average of rainfall per month\" + str(mean))                          "
   ]
  }
 ],
 "metadata": {
  "kernelspec": {
   "display_name": "Python 3",
   "language": "python",
   "name": "python3"
  },
  "language_info": {
   "codemirror_mode": {
    "name": "ipython",
    "version": 3
   },
   "file_extension": ".py",
   "mimetype": "text/x-python",
   "name": "python",
   "nbconvert_exporter": "python",
   "pygments_lexer": "ipython3",
   "version": "3.7.3"
  }
 },
 "nbformat": 4,
 "nbformat_minor": 2
}
